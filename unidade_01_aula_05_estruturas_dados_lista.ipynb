{
  "nbformat": 4,
  "nbformat_minor": 0,
  "metadata": {
    "colab": {
      "provenance": [],
      "authorship_tag": "ABX9TyPn+eZ7LUlhX0kyduIrWFtI",
      "include_colab_link": true
    },
    "kernelspec": {
      "name": "python3",
      "display_name": "Python 3"
    },
    "language_info": {
      "name": "python"
    }
  },
  "cells": [
    {
      "cell_type": "markdown",
      "metadata": {
        "id": "view-in-github",
        "colab_type": "text"
      },
      "source": [
        "<a href=\"https://colab.research.google.com/github/matheushrq/engdados_python/blob/main/unidade_01_aula_05_estruturas_dados_lista.ipynb\" target=\"_parent\"><img src=\"https://colab.research.google.com/assets/colab-badge.svg\" alt=\"Open In Colab\"/></a>"
      ]
    },
    {
      "cell_type": "code",
      "execution_count": 2,
      "metadata": {
        "colab": {
          "base_uri": "https://localhost:8080/"
        },
        "id": "VXPUuKIzwJTH",
        "outputId": "108d63dd-ba22-4e89-c0a7-c4af90c26d02"
      },
      "outputs": [
        {
          "output_type": "stream",
          "name": "stdout",
          "text": [
            "1\n",
            "[1, 3, 4]\n",
            "3\n"
          ]
        }
      ],
      "source": [
        "lista_1 = []\n",
        "lista_2 = [1,2,'Linguagem Python', [1,3,4]] # ordem de posição [0,1,2,3]\n",
        "\n",
        "print(lista_2[0]) # 1\n",
        "print(lista_2[3]) # [1,3,4]\n",
        "print(lista_2[3][1]) # ? pega o último elemento da lista, e dentro dele, o segundo elemento da lista interna"
      ]
    },
    {
      "cell_type": "code",
      "source": [
        "lista = [1,2,3,10,25]\n",
        "print(\"Verificando elementos da lista...\")\n",
        "print(34 in lista) # retorna valor boolean, nesse caso, false (não existe na lista)\n",
        "print(10 in lista)\n",
        "print(\"Percorrendo a lista...\")\n",
        "\n",
        "for elemento in lista:\n",
        "    print(elemento)"
      ],
      "metadata": {
        "colab": {
          "base_uri": "https://localhost:8080/"
        },
        "id": "Yl6cHs5x0dG8",
        "outputId": "241236d0-1a5b-488e-a463-7eb90c306241"
      },
      "execution_count": 3,
      "outputs": [
        {
          "output_type": "stream",
          "name": "stdout",
          "text": [
            "Verificando elementos da lista...\n",
            "False\n",
            "True\n",
            "Percorrendo a lista...\n",
            "1\n",
            "2\n",
            "3\n",
            "10\n",
            "25\n"
          ]
        }
      ]
    },
    {
      "cell_type": "code",
      "source": [
        "lista = [190,87,3,54,9]\n",
        "print(\"Maior elemento: \", max(lista)) # retorna maior elemento da lista\n",
        "print(\"Menor elemento: \", min(lista)) # retorna menor elemento da lista\n",
        "print(\"Soma de todos os elementos: \", sum(lista)) # retorna maior elemento da lista\n",
        "print(\"Quantidade de elementos da lista: \", len(lista)) # retorna a quantidade de elementos da lista"
      ],
      "metadata": {
        "colab": {
          "base_uri": "https://localhost:8080/"
        },
        "id": "fPBIrw8S1AuR",
        "outputId": "f6f714de-abd6-4d80-9810-efd369f2664b"
      },
      "execution_count": 7,
      "outputs": [
        {
          "output_type": "stream",
          "name": "stdout",
          "text": [
            "Maior elemento:  190\n",
            "Menor elemento:  3\n",
            "Soma de todos os elementos:  343\n",
            "Quantidade de elementos da lista:  5\n"
          ]
        }
      ]
    },
    {
      "cell_type": "code",
      "source": [
        "lista = [190,5,84,7666,794]\n",
        "\n",
        "# adicionando elementos no final da lista\n",
        "lista.append('Ciência de Dados')\n",
        "lista.append('Engenharia de Dados')\n",
        "\n",
        "# validando os dados\n",
        "print(lista)\n",
        "\n",
        "# adicionando um dado numa posição específica da lista\n",
        "lista.insert(1, 'Python')\n",
        "\n",
        "# validando novamente\n",
        "print(lista)\n",
        "\n",
        "# removendo um dado da lista\n",
        "lista.remove('Engenharia de Dados')\n",
        "\n",
        "# validando novamente\n",
        "print(lista)\n",
        "\n",
        "# removendo o último elemento da lista\n",
        "lista.pop()\n",
        "\n",
        "# removendo o elemento do índice 2 da lista\n",
        "lista.pop(2)\n",
        "\n",
        "# removendo um elemento se ele existir na lista\n",
        "lista.remove(7666)\n",
        "\n",
        "# validando os dados\n",
        "print(lista)"
      ],
      "metadata": {
        "colab": {
          "base_uri": "https://localhost:8080/"
        },
        "id": "tCEuTW2Q1wLG",
        "outputId": "348252c8-bc3d-44d2-f3d4-47e38799fb47"
      },
      "execution_count": 11,
      "outputs": [
        {
          "output_type": "stream",
          "name": "stdout",
          "text": [
            "[190, 5, 84, 7666, 794, 'Ciência de Dados', 'Engenharia de Dados']\n",
            "[190, 'Python', 5, 84, 7666, 794, 'Ciência de Dados', 'Engenharia de Dados']\n",
            "[190, 'Python', 5, 84, 7666, 794, 'Ciência de Dados']\n",
            "[190, 'Python', 84, 794]\n"
          ]
        }
      ]
    },
    {
      "cell_type": "code",
      "source": [
        "# ordenação\n",
        "lista = [190,5,84,1,794]\n",
        "lista.sort()\n",
        "print(lista)\n",
        "\n",
        "# invertendo a ordenação da lista\n",
        "lista.reverse()\n",
        "print(lista)"
      ],
      "metadata": {
        "colab": {
          "base_uri": "https://localhost:8080/"
        },
        "id": "OA67AflH3R5e",
        "outputId": "d4ab1287-2773-4e28-98fa-b99eff61af08"
      },
      "execution_count": 12,
      "outputs": [
        {
          "output_type": "stream",
          "name": "stdout",
          "text": [
            "[1, 5, 84, 190, 794]\n",
            "[794, 190, 84, 5, 1]\n"
          ]
        }
      ]
    },
    {
      "cell_type": "code",
      "source": [
        "# uso do split\n",
        "# transformando uma string em lista\n",
        "\n",
        "frase = \"Python é uma linguagem de programação\"\n",
        "lista = frase.split()\n",
        "print(type(lista)) # informa qual o tipo da variável\n",
        "print(lista)\n",
        "\n",
        "data = \"13/08/2025\"\n",
        "data.split('/') # divide a string sempre que encontrar uma barra e transforma os elementos numa lista\n",
        "print(data.split('/'))"
      ],
      "metadata": {
        "colab": {
          "base_uri": "https://localhost:8080/"
        },
        "id": "KgPiJOaM4NTE",
        "outputId": "9ed8ce10-3849-48ff-8c8b-13b90db17e6e"
      },
      "execution_count": 16,
      "outputs": [
        {
          "output_type": "stream",
          "name": "stdout",
          "text": [
            "<class 'list'>\n",
            "['Python', 'é', 'uma', 'linguagem', 'de', 'programação']\n",
            "['13', '08', '2025']\n"
          ]
        }
      ]
    },
    {
      "cell_type": "markdown",
      "source": [
        "<h1>Desafio</h1>\n",
        "\n",
        "<h3>Solicite ao usuário que escreva uma data no formato DD/MM/AAAA e escreva a data por extenso, exemplo:</h3>\n",
        "\n",
        "<h4>09/11/2023 - 09 de novembro de 2023</h4>"
      ],
      "metadata": {
        "id": "pltgUbN28eaq"
      }
    },
    {
      "cell_type": "code",
      "source": [
        "lista_mes = {\n",
        "    1: \"janeiro\",\n",
        "    2: \"fevereiro\",\n",
        "    3: \"março,\",\n",
        "    4: \"abril\",\n",
        "    5: \"maio\",\n",
        "    6: \"junho\",\n",
        "    7: \"julho\",\n",
        "    8: \"agosto\",\n",
        "    9: \"setembro\",\n",
        "    10: \"outubro\",\n",
        "    11: \"novembro\",\n",
        "    12: \"dezembro\"\n",
        "    }\n",
        "\n",
        "data = input(\"Digite a data: \")\n",
        "dia, mes, ano = data.split(\"/\")\n",
        "nome_mes = lista_mes[int(mes)]\n",
        "\n",
        "# outra forma, caso a lista não estivesse enumerada por índice fixo\n",
        "# nome_mes = lista_mes[int(mes)-1] -> se digitar 01, tem que pegar \"janeiro\", ou seja, índice 0 (o primeiro da lista)\n",
        "\n",
        "print(dia, \"de\", nome_mes, \"de\", ano)"
      ],
      "metadata": {
        "colab": {
          "base_uri": "https://localhost:8080/"
        },
        "id": "36vwlq9d83-U",
        "outputId": "59114e60-b20c-4bc9-d70b-f8f0dee3e238"
      },
      "execution_count": 25,
      "outputs": [
        {
          "output_type": "stream",
          "name": "stdout",
          "text": [
            "Digite a data: 13/08/2025\n",
            "13 de agosto de 2025\n"
          ]
        }
      ]
    }
  ]
}