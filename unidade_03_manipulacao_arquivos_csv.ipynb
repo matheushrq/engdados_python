{
  "nbformat": 4,
  "nbformat_minor": 0,
  "metadata": {
    "colab": {
      "provenance": [],
      "authorship_tag": "ABX9TyN3ZqaiQHsO1MHPXecs5aYm",
      "include_colab_link": true
    },
    "kernelspec": {
      "name": "python3",
      "display_name": "Python 3"
    },
    "language_info": {
      "name": "python"
    }
  },
  "cells": [
    {
      "cell_type": "markdown",
      "metadata": {
        "id": "view-in-github",
        "colab_type": "text"
      },
      "source": [
        "<a href=\"https://colab.research.google.com/github/matheushrq/engdados_python/blob/main/unidade_03_manipulacao_arquivos_csv.ipynb\" target=\"_parent\"><img src=\"https://colab.research.google.com/assets/colab-badge.svg\" alt=\"Open In Colab\"/></a>"
      ]
    },
    {
      "cell_type": "code",
      "execution_count": 7,
      "metadata": {
        "id": "6shaVkv5U1yy"
      },
      "outputs": [],
      "source": [
        "# criando um arquivo CSV e escrevendo conteúdo no mesmo\n",
        "import csv\n",
        "\n",
        "with open('saida.csv', 'w') as arquivo:\n",
        "  writer = csv.writer(arquivo)\n",
        "  writer.writerow(('RA', 'Nome', 'nota'))\n",
        "  writer.writerow((100, 'João', 70.5))\n",
        "  writer.writerow((200, 'Maria', 100))\n",
        "  writer.writerow((300, 'Matheus', 90.2))"
      ]
    },
    {
      "cell_type": "code",
      "source": [
        "# utilizando outro caractere separador: utilizar o parâmetro delimiter no método writer\n",
        "import csv\n",
        "\n",
        "with open('nova_saida.csv', 'w') as arquivo:\n",
        "  writer = csv.writer(arquivo, delimiter = ';')\n",
        "  writer.writerow(('RA', 'Nome', 'nota'))\n",
        "  writer.writerow((100, 'João', 70.5))\n",
        "  writer.writerow((200, 'Maria', 100))\n",
        "  writer.writerow((300, 'Matheus', 90.2))"
      ],
      "metadata": {
        "id": "kjPR0WHDZPI_"
      },
      "execution_count": 10,
      "outputs": []
    },
    {
      "cell_type": "code",
      "source": [
        "# objeto reader\n",
        "import csv\n",
        "\n",
        "with open('nova_saida.csv', 'r') as arquivo:\n",
        "  reader = csv.reader(arquivo, delimiter = ';')\n",
        "  for linha in reader:\n",
        "    print(linha)"
      ],
      "metadata": {
        "colab": {
          "base_uri": "https://localhost:8080/"
        },
        "id": "ESxIqobsZmyH",
        "outputId": "56a7572a-faa3-4fa7-c1a9-b2b1754e3936"
      },
      "execution_count": 12,
      "outputs": [
        {
          "output_type": "stream",
          "name": "stdout",
          "text": [
            "['RA', 'Nome', 'nota']\n",
            "['100', 'João', '70.5']\n",
            "['200', 'Maria', '100']\n",
            "['300', 'Matheus', '90.2']\n"
          ]
        }
      ]
    },
    {
      "cell_type": "code",
      "source": [
        "# lendo os arquivos por meio de lista\n",
        "with open('nova_saida.csv', 'r') as arquivo:\n",
        "  reader = csv.reader(arquivo, delimiter = ';')\n",
        "  lista = list(reader)\n",
        "print(lista)"
      ],
      "metadata": {
        "colab": {
          "base_uri": "https://localhost:8080/"
        },
        "id": "2hi3X3hrZ2tk",
        "outputId": "98ca456a-2240-4af5-d6e1-b859273f310d"
      },
      "execution_count": 13,
      "outputs": [
        {
          "output_type": "stream",
          "name": "stdout",
          "text": [
            "[['RA', 'Nome', 'nota'], ['100', 'João', '70.5'], ['200', 'Maria', '100'], ['300', 'Matheus', '90.2']]\n"
          ]
        }
      ]
    },
    {
      "cell_type": "code",
      "source": [
        "# reader: lendo os dados de um arquivo csv\n",
        "with open('jogadores.csv', 'r') as arquivo:\n",
        "  reader = csv.reader(arquivo)\n",
        "  for linha in reader:\n",
        "    print(linha)"
      ],
      "metadata": {
        "colab": {
          "base_uri": "https://localhost:8080/"
        },
        "id": "cylC-N27aepb",
        "outputId": "5cc9a81d-0b68-4f43-b206-f9674e96b848"
      },
      "execution_count": 16,
      "outputs": [
        {
          "output_type": "stream",
          "name": "stdout",
          "text": [
            "['jogador;time;posicao;salario']\n",
            "['Everson;Atlético;Goleiro;150000.00']\n",
            "['Incrível Hulk;Atlético;Atacante;850000.00']\n",
            "['Fábio;Cruzeiro;Goleiro;100000.00']\n",
            "['Edu;Cruzeiro;Atacante;150000.00']\n",
            "['Diego Tardeli;null;Atacante;null']\n"
          ]
        }
      ]
    },
    {
      "cell_type": "code",
      "source": [
        "with open('nova_saida.csv', 'r') as arquivo:\n",
        "  reader = csv.reader(arquivo, delimiter = ';')\n",
        "  lista = list(reader)\n",
        "\n",
        "for l in lista[1:]:\n",
        "  print(l)"
      ],
      "metadata": {
        "colab": {
          "base_uri": "https://localhost:8080/"
        },
        "id": "8jFmII8ccJhm",
        "outputId": "642cff96-e85c-4a91-cbcd-a056e5d9aca3"
      },
      "execution_count": 19,
      "outputs": [
        {
          "output_type": "stream",
          "name": "stdout",
          "text": [
            "['100', 'João', '70.5']\n",
            "['200', 'Maria', '100']\n",
            "['300', 'Matheus', '90.2']\n"
          ]
        }
      ]
    },
    {
      "cell_type": "code",
      "source": [
        "with open('nova_saida.csv', 'r') as arquivo:\n",
        "  reader = csv.reader(arquivo, delimiter = ';')\n",
        "  next(reader) # lê uma linha e incrementa o ponteiro do arquivo para a próxima linha\n",
        "  lista = list(reader)\n",
        "\n",
        "for l in lista:\n",
        "  print(l)"
      ],
      "metadata": {
        "colab": {
          "base_uri": "https://localhost:8080/"
        },
        "id": "4wL6bIWFburo",
        "outputId": "797be459-e331-492e-a469-828655d2abfd"
      },
      "execution_count": 17,
      "outputs": [
        {
          "output_type": "stream",
          "name": "stdout",
          "text": [
            "['100', 'João', '70.5']\n",
            "['200', 'Maria', '100']\n",
            "['300', 'Matheus', '90.2']\n"
          ]
        }
      ]
    },
    {
      "cell_type": "code",
      "source": [
        "with open('nova_saida.csv', 'r') as arquivo:\n",
        "  reader = csv.reader(arquivo, delimiter = ';')\n",
        "  lista = list(reader)\n",
        "\n",
        "for l in lista[1:]:\n",
        "  print(l[1]) # lê a posição 1 de cada registro da lista"
      ],
      "metadata": {
        "colab": {
          "base_uri": "https://localhost:8080/"
        },
        "id": "rg7OY19kdILb",
        "outputId": "39d36c1a-9aa1-4134-d526-ae4621e1be46"
      },
      "execution_count": 24,
      "outputs": [
        {
          "output_type": "stream",
          "name": "stdout",
          "text": [
            "João\n",
            "Maria\n",
            "Matheus\n"
          ]
        }
      ]
    }
  ]
}