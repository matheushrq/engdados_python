{
  "nbformat": 4,
  "nbformat_minor": 0,
  "metadata": {
    "colab": {
      "provenance": [],
      "authorship_tag": "ABX9TyOrz3FcMqRSQnB6StuVnwug",
      "include_colab_link": true
    },
    "kernelspec": {
      "name": "python3",
      "display_name": "Python 3"
    },
    "language_info": {
      "name": "python"
    }
  },
  "cells": [
    {
      "cell_type": "markdown",
      "metadata": {
        "id": "view-in-github",
        "colab_type": "text"
      },
      "source": [
        "<a href=\"https://colab.research.google.com/github/matheushrq/engdados_python/blob/main/unidade_03_processamento_multi_threading.ipynb\" target=\"_parent\"><img src=\"https://colab.research.google.com/assets/colab-badge.svg\" alt=\"Open In Colab\"/></a>"
      ]
    },
    {
      "cell_type": "code",
      "execution_count": 2,
      "metadata": {
        "colab": {
          "base_uri": "https://localhost:8080/"
        },
        "id": "8QDQZq3LGxJh",
        "outputId": "f980d75e-e169-4fbd-9a5a-9c18ad835ef9"
      },
      "outputs": [
        {
          "output_type": "stream",
          "name": "stdout",
          "text": [
            "Iniciando tarefas\n",
            "Tarefa 1\n",
            "Tarefa 1\n",
            "Tarefa 1\n",
            "Tarefa 1\n",
            "Tarefa 1\n",
            "Tarefa 1\n",
            "Tarefa 1\n",
            "Tarefa 1\n",
            "Tarefa 1\n",
            "Tarefa 1\n",
            "Tarefa 2\n",
            "Tarefa 2\n",
            "Tarefa 2\n",
            "Tarefa 2\n",
            "Tarefa 2\n",
            "Tarefa 2\n",
            "Tarefa 2\n",
            "Tarefa 2\n",
            "Tarefa 2\n",
            "Tarefa 2\n",
            "Finalizando tarefas\n"
          ]
        }
      ],
      "source": [
        "def tarefa_1():\n",
        "  for i in range(10):\n",
        "    print('Tarefa 1')\n",
        "\n",
        "def tarefa_2():\n",
        "  for i in range(10):\n",
        "    print('Tarefa 2')\n",
        "\n",
        "print('Iniciando tarefas')\n",
        "tarefa_1()\n",
        "tarefa_2()\n",
        "print('Finalizando tarefas')"
      ]
    },
    {
      "cell_type": "code",
      "source": [
        "import threading\n",
        "\n",
        "def tarefa_1(numero):\n",
        "  for i in range(10):\n",
        "    print('Tarefa', numero)\n",
        "\n",
        "def tarefa_2():\n",
        "  for i in range(10):\n",
        "    print('Tarefa 2')\n",
        "\n",
        "print('Iniciando tarefas')\n",
        "t1 = threading.Thread(target=tarefa_1(100), args=(1,))\n",
        "t1.start()\n",
        "t2 = threading.Thread(target=tarefa_2)\n",
        "t2.start()\n",
        "t3 = threading.Thread(target=tarefa_1(300))\n",
        "t3.start()\n",
        "print('Finalizando tarefas')"
      ],
      "metadata": {
        "colab": {
          "base_uri": "https://localhost:8080/"
        },
        "id": "cm5aTo-4RomM",
        "outputId": "ca800aff-b114-4e61-c859-575196ae5b15"
      },
      "execution_count": 10,
      "outputs": [
        {
          "output_type": "stream",
          "name": "stdout",
          "text": [
            "Iniciando tarefas\n",
            "Tarefa 100\n",
            "Tarefa 100\n",
            "Tarefa 100\n",
            "Tarefa 100\n",
            "Tarefa 100\n",
            "Tarefa 100\n",
            "Tarefa 100\n",
            "Tarefa 100\n",
            "Tarefa 100\n",
            "Tarefa 100\n",
            "Tarefa 2\n",
            "Tarefa 2\n",
            "Tarefa 2\n",
            "Tarefa 2\n",
            "Tarefa 2\n",
            "Tarefa 2\n",
            "Tarefa 2\n",
            "Tarefa 2\n",
            "Tarefa 2\n",
            "Tarefa 2\n",
            "Tarefa 300\n",
            "Tarefa 300\n",
            "Tarefa 300\n",
            "Tarefa 300\n",
            "Tarefa 300\n",
            "Tarefa 300\n",
            "Tarefa 300\n",
            "Tarefa 300\n",
            "Tarefa 300\n",
            "Tarefa 300\n",
            "Finalizando tarefas\n"
          ]
        }
      ]
    }
  ]
}