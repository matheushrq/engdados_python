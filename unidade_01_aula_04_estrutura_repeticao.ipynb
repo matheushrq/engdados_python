{
  "nbformat": 4,
  "nbformat_minor": 0,
  "metadata": {
    "colab": {
      "provenance": [],
      "authorship_tag": "ABX9TyN3mDvgiVMe0Oh3fPAq8M7z",
      "include_colab_link": true
    },
    "kernelspec": {
      "name": "python3",
      "display_name": "Python 3"
    },
    "language_info": {
      "name": "python"
    }
  },
  "cells": [
    {
      "cell_type": "markdown",
      "metadata": {
        "id": "view-in-github",
        "colab_type": "text"
      },
      "source": [
        "<a href=\"https://colab.research.google.com/github/matheushrq/engdados_python/blob/main/unidade_01_aula_04_estrutura_repeticao.ipynb\" target=\"_parent\"><img src=\"https://colab.research.google.com/assets/colab-badge.svg\" alt=\"Open In Colab\"/></a>"
      ]
    },
    {
      "cell_type": "markdown",
      "source": [
        "<h1>FOR</h1>"
      ],
      "metadata": {
        "id": "Fq_4Tqx4fw5Y"
      }
    },
    {
      "cell_type": "code",
      "execution_count": 4,
      "metadata": {
        "colab": {
          "base_uri": "https://localhost:8080/"
        },
        "id": "qa0Gx1tnfrDl",
        "outputId": "9bfe1abb-96b4-45b4-8b4c-0a243966f227"
      },
      "outputs": [
        {
          "output_type": "stream",
          "name": "stdout",
          "text": [
            "1\n",
            "2\n",
            "3\n",
            "4\n",
            "5\n",
            "6\n",
            "7\n",
            "8\n",
            "9\n",
            "Fim da contagem.\n"
          ]
        }
      ],
      "source": [
        "for i in range(1, 10):\n",
        "  print(i)\n",
        "print(\"Fim da contagem.\")"
      ]
    },
    {
      "cell_type": "code",
      "source": [
        "# de dois em dois\n",
        "for i in range(2,20,2):\n",
        "  print(i)\n",
        "print(\"Fim da contagem.\")"
      ],
      "metadata": {
        "colab": {
          "base_uri": "https://localhost:8080/"
        },
        "id": "7k6mqrOEggjg",
        "outputId": "e8d1f066-9cbc-4310-c539-993b13b77249"
      },
      "execution_count": 5,
      "outputs": [
        {
          "output_type": "stream",
          "name": "stdout",
          "text": [
            "2\n",
            "4\n",
            "6\n",
            "8\n",
            "10\n",
            "12\n",
            "14\n",
            "16\n",
            "18\n",
            "Fim da contagem.\n"
          ]
        }
      ]
    },
    {
      "cell_type": "code",
      "source": [
        "# utilizando variáveis\n",
        "inicio = int(input(\"Digite o início da contagem: \"))\n",
        "fim = int(input(\"Digite o fim da contagem: \"))\n",
        "\n",
        "for i in range(inicio, fim + 1):\n",
        "  print(i)\n",
        "print(\"Fim da contagem.\")"
      ],
      "metadata": {
        "colab": {
          "base_uri": "https://localhost:8080/"
        },
        "id": "_I8Muil5gyOv",
        "outputId": "989873d9-19e9-4c6d-ea54-db3ea7d9ae98"
      },
      "execution_count": 9,
      "outputs": [
        {
          "output_type": "stream",
          "name": "stdout",
          "text": [
            "Digite o início da contagem: 5\n",
            "Digite o fim da contagem: 10\n",
            "5\n",
            "6\n",
            "7\n",
            "8\n",
            "9\n",
            "10\n",
            "Fim da contagem.\n"
          ]
        }
      ]
    },
    {
      "cell_type": "markdown",
      "source": [
        "<h1>WHILE</h1>"
      ],
      "metadata": {
        "id": "T38XvgDZf1Qf"
      }
    },
    {
      "cell_type": "code",
      "source": [
        "x = 1\n",
        "y = 10\n",
        "while(x < y):\n",
        "  print(\"Valor de Y: \", y)\n",
        "  y = y - 2"
      ],
      "metadata": {
        "colab": {
          "base_uri": "https://localhost:8080/"
        },
        "id": "7r52M7YBh7q0",
        "outputId": "f9b4a85e-4c13-48c9-ff28-23340403daf8"
      },
      "execution_count": 10,
      "outputs": [
        {
          "output_type": "stream",
          "name": "stdout",
          "text": [
            "Valor de Y:  10\n",
            "Valor de Y:  8\n",
            "Valor de Y:  6\n",
            "Valor de Y:  4\n",
            "Valor de Y:  2\n"
          ]
        }
      ]
    },
    {
      "cell_type": "code",
      "source": [
        "idade = int(input(\"Digite sua idade: \"))\n",
        "while(idade < 0 or idade > 130):\n",
        "  print(\"Idade inválida.\")\n",
        "  idade = int(input(\"Digite sua idade: \"))\n",
        "print(\"Sua idade é: \", idade)\n",
        "#"
      ],
      "metadata": {
        "colab": {
          "base_uri": "https://localhost:8080/"
        },
        "id": "pQsviWaUiPn4",
        "outputId": "28670e44-cb5a-4ae3-a21e-2c7cb19bc554"
      },
      "execution_count": 11,
      "outputs": [
        {
          "output_type": "stream",
          "name": "stdout",
          "text": [
            "Digite sua idade: 26\n",
            "Sua idade é:  26\n"
          ]
        }
      ]
    },
    {
      "cell_type": "code",
      "source": [
        "# expectativa de vida\n",
        "\n",
        "idade = int(input(\"Digite sua idade: \"))\n",
        "expectativa_vida = 76\n",
        "\n",
        "while(idade < 0 or idade > 130):\n",
        "  print(\"Idade inválida.\")\n",
        "  idade = int(input(\"Digite sua idade: \"))\n",
        "\n",
        "if(idade > expectativa_vida):\n",
        "  print(\"Está acima da expectativa de vida no Brasil.\")\n",
        "elif(idade == expectativa_vida):\n",
        "  print(\"Está dentro da expectativa de vida no Brasil.\")\n",
        "else:\n",
        "  print(\"Está abaixo da expectativa de vida no Brasil.\")"
      ],
      "metadata": {
        "colab": {
          "base_uri": "https://localhost:8080/"
        },
        "id": "6DRF1nelinuL",
        "outputId": "cd61268e-5d3b-4524-9eb2-4eb05d103bad"
      },
      "execution_count": 15,
      "outputs": [
        {
          "output_type": "stream",
          "name": "stdout",
          "text": [
            "Digite sua idade: 76\n",
            "Está dentro da expectativa de vida no Brasil.\n"
          ]
        }
      ]
    },
    {
      "cell_type": "markdown",
      "source": [
        "<h1>Desafio</h1>\n",
        "\n",
        "<h3>Faça um programa que leia dois números inteiros e que imprima todos os números inteiros existentes entre o menor e o maior número informados.</h3>"
      ],
      "metadata": {
        "id": "0PHAtCSJkoei"
      }
    },
    {
      "cell_type": "code",
      "source": [
        "x = int(input(\"Digite o menor número: \"))\n",
        "y = int(input(\"Digite o maior número: \"))\n",
        "\n",
        "if(x < y):\n",
        "  for i in range(x + 1, y):\n",
        "    print(\">>\", i)\n",
        "else:\n",
        "  print(\"O número X deve ser menor que o número Y.\")\n",
        "\n",
        "# outra forma para evitar nova execução e ter melhor performance\n",
        "# x = int(input(\"Digite o menor número: \"))\n",
        "# y = int(input(\"Digite o maior número: \"))\n",
        "# if(x > y):\n",
        "#   x,y = y,x -- atribuição múltipla\n",
        "#   for i in range(x + 1, y):\n",
        "#     print(\">>\", i)"
      ],
      "metadata": {
        "colab": {
          "base_uri": "https://localhost:8080/"
        },
        "id": "UpGn4qBmk2EU",
        "outputId": "3fd35dca-8fab-463e-89fc-222e26b9d78f"
      },
      "execution_count": 19,
      "outputs": [
        {
          "output_type": "stream",
          "name": "stdout",
          "text": [
            "Digite o menor número: 4\n",
            "Digite o maior número: 2\n",
            "O número X deve ser menor que o número Y.\n"
          ]
        }
      ]
    }
  ]
}