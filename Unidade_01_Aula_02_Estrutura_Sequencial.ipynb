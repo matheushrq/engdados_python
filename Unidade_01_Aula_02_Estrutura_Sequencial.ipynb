{
  "nbformat": 4,
  "nbformat_minor": 0,
  "metadata": {
    "colab": {
      "provenance": [],
      "include_colab_link": true
    },
    "kernelspec": {
      "name": "python3",
      "display_name": "Python 3"
    },
    "language_info": {
      "name": "python"
    }
  },
  "cells": [
    {
      "cell_type": "markdown",
      "metadata": {
        "id": "view-in-github",
        "colab_type": "text"
      },
      "source": [
        "<a href=\"https://colab.research.google.com/github/matheushrq/engdados_python/blob/main/Unidade_01_Aula_02_Estrutura_Sequencial.ipynb\" target=\"_parent\"><img src=\"https://colab.research.google.com/assets/colab-badge.svg\" alt=\"Open In Colab\"/></a>"
      ]
    },
    {
      "cell_type": "code",
      "source": [
        "expressao = input(\"Digite uma expressão: \")\n",
        "resultado = eval(expressao)\n",
        "\n",
        "print(\"Resultado:\", resultado)"
      ],
      "metadata": {
        "id": "Jo0uaLdbRkDK",
        "colab": {
          "base_uri": "https://localhost:8080/"
        },
        "outputId": "20e55f3c-c045-4830-daae-18ae23650608"
      },
      "execution_count": 1,
      "outputs": [
        {
          "output_type": "stream",
          "name": "stdout",
          "text": [
            "Digite uma expressão: 10+10\n",
            "Resultado: 20\n"
          ]
        }
      ]
    },
    {
      "cell_type": "code",
      "execution_count": null,
      "metadata": {
        "id": "u2x2fxbKrqjP"
      },
      "outputs": [],
      "source": [
        "x = 10\n",
        "y = 20"
      ]
    },
    {
      "cell_type": "code",
      "source": [
        "x = 10\n",
        "y = 20\n",
        "temp = x\n",
        "x = y\n",
        "y = temp\n",
        "print (x, y)"
      ],
      "metadata": {
        "id": "43zSAQ4itDA_"
      },
      "execution_count": null,
      "outputs": []
    },
    {
      "cell_type": "code",
      "source": [
        "x = 10\n",
        "y = 20\n",
        "x,y = y,x\n",
        "print(x, y)"
      ],
      "metadata": {
        "id": "naw1Fcn6tagj"
      },
      "execution_count": null,
      "outputs": []
    },
    {
      "cell_type": "code",
      "source": [
        "nome = input(\"Digite o seu nome: \")\n",
        "sobrenome = input(\"Digite o seu sobrenome: \")\n",
        "print(\"Seu nome completo é \" + nome +  \" \" +  sobrenome)"
      ],
      "metadata": {
        "id": "YV-Acvmytoxn",
        "colab": {
          "base_uri": "https://localhost:8080/"
        },
        "outputId": "d3d04f04-527d-4407-c83f-9c5739c5fb7b"
      },
      "execution_count": 4,
      "outputs": [
        {
          "output_type": "stream",
          "name": "stdout",
          "text": [
            "Digite o seu nome: Matheus Henrique\n",
            "Digite o seu sobrenome: Silva Coelho\n",
            "Seu nome completo é Matheus Henrique Silva Coelho\n"
          ]
        }
      ]
    },
    {
      "cell_type": "code",
      "source": [
        "x = input(\"Digite o primeiro número:\")\n",
        "y = input(\"Digite o segundo número:\")\n",
        "print(\"Soma\", x + y)"
      ],
      "metadata": {
        "id": "A_WMJpV0tynN"
      },
      "execution_count": null,
      "outputs": []
    },
    {
      "cell_type": "code",
      "source": [
        "x = int(input(\"Digite o primeiro número:\"))\n",
        "y = int(input(\"Digite o segundo número:\"))\n",
        "print(\"Soma\", x + y)"
      ],
      "metadata": {
        "id": "VP9pCTqQt0EZ"
      },
      "execution_count": null,
      "outputs": []
    },
    {
      "cell_type": "code",
      "source": [
        "import math\n",
        "x = int(input(\"Digite um número:\"))\n",
        "y = math.sqrt(x)\n",
        "z = math.pow(x, 3)\n",
        "print(\"Raiz:\", y)\n",
        "print(\"Potência:\", z)\n",
        "print(\"1 - Raiz de\", x, \"=\", y)\n",
        "print(\"2 - Raiz de \" + str(x) + \" = \" + str(y))\n",
        "print(\"3 - Raiz de %r = %r\" %(x, y))\n",
        "print(\"4 - Raiz de %r = %f\" %(x, y))\n",
        "print(\"5 - Raiz de %r = %.2f\" %(x, y))\n",
        "print(f\"6 - Raiz de {x} = {y}\")\n",
        "print(f\"7 - Raiz de {x} = {y:.2f}\")"
      ],
      "metadata": {
        "id": "F9Q6BiIiuwDT"
      },
      "execution_count": null,
      "outputs": []
    }
  ]
}