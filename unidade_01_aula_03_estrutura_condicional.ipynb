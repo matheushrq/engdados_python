{
  "nbformat": 4,
  "nbformat_minor": 0,
  "metadata": {
    "colab": {
      "provenance": [],
      "authorship_tag": "ABX9TyPBTGGLfZIiXHLqPfJwnkTm",
      "include_colab_link": true
    },
    "kernelspec": {
      "name": "python3",
      "display_name": "Python 3"
    },
    "language_info": {
      "name": "python"
    }
  },
  "cells": [
    {
      "cell_type": "markdown",
      "metadata": {
        "id": "view-in-github",
        "colab_type": "text"
      },
      "source": [
        "<a href=\"https://colab.research.google.com/github/matheushrq/engdados_python/blob/main/unidade_01_aula_03_estrutura_condicional.ipynb\" target=\"_parent\"><img src=\"https://colab.research.google.com/assets/colab-badge.svg\" alt=\"Open In Colab\"/></a>"
      ]
    },
    {
      "cell_type": "code",
      "execution_count": 1,
      "metadata": {
        "colab": {
          "base_uri": "https://localhost:8080/"
        },
        "id": "NWL7M5__Qdfk",
        "outputId": "3bb20a77-4e95-4b83-dc23-d5a548de71e9"
      },
      "outputs": [
        {
          "output_type": "stream",
          "name": "stdout",
          "text": [
            "15\n"
          ]
        }
      ],
      "source": [
        "x = 10\n",
        "if(x < 20):\n",
        "  x = x + 5\n",
        "\n",
        "print(x)"
      ]
    },
    {
      "cell_type": "code",
      "source": [
        "lado_a = int(input(\"Digite o valor do lado A: \"))\n",
        "lado_b = int(input(\"Digite o valor do lado B: \"))\n",
        "lado_c = int(input(\"Digite o valor do lado C: \"))\n",
        "\n",
        "if(lado_a == lado_b and lado_b == lado_c):\n",
        "    print(\"O triângulo é equilátero\")\n",
        "elif(lado_a == lado_b or lado_b == lado_c or lado_a == lado_c):\n",
        "    print(\"O triângulo é isósceles\")\n",
        "else:\n",
        "    print(\"O triângulo é escaleno\")"
      ],
      "metadata": {
        "colab": {
          "base_uri": "https://localhost:8080/"
        },
        "id": "UeV1pm1KYVEM",
        "outputId": "e5f79ba4-b57c-47a8-f5df-6758670e1296"
      },
      "execution_count": 4,
      "outputs": [
        {
          "output_type": "stream",
          "name": "stdout",
          "text": [
            "Digite o valor do lado A: 10\n",
            "Digite o valor do lado B: 15\n",
            "Digite o valor do lado C: 10\n",
            "O triângulo é isósceles\n"
          ]
        }
      ]
    },
    {
      "cell_type": "code",
      "source": [
        "nota = float(input(\"Digite a nota do aluno: \"))\n",
        "\n",
        "if(nota >= 0 and nota < 3):\n",
        "  print(\"Reprovado\")\n",
        "elif(nota >= 3 and nota < 7):\n",
        "  print(\"Recuperação\")\n",
        "else:\n",
        "  print(\"Aprovado\")"
      ],
      "metadata": {
        "colab": {
          "base_uri": "https://localhost:8080/"
        },
        "id": "hZYR0c0BY7jj",
        "outputId": "ebe5165c-b0a8-40aa-c912-0bc6dec04649"
      },
      "execution_count": 7,
      "outputs": [
        {
          "output_type": "stream",
          "name": "stdout",
          "text": [
            "Digite a nota do aluno: 6.9\n",
            "Recuperação\n"
          ]
        }
      ]
    }
  ]
}