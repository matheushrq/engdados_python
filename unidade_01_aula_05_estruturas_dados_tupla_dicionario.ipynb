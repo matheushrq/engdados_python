{
  "nbformat": 4,
  "nbformat_minor": 0,
  "metadata": {
    "colab": {
      "provenance": [],
      "authorship_tag": "ABX9TyMAr3iw//i2ECqxXtDX06Zn",
      "include_colab_link": true
    },
    "kernelspec": {
      "name": "python3",
      "display_name": "Python 3"
    },
    "language_info": {
      "name": "python"
    }
  },
  "cells": [
    {
      "cell_type": "markdown",
      "metadata": {
        "id": "view-in-github",
        "colab_type": "text"
      },
      "source": [
        "<a href=\"https://colab.research.google.com/github/matheushrq/engdados_python/blob/main/unidade_01_aula_05_estruturas_dados_tupla_dicionario.ipynb\" target=\"_parent\"><img src=\"https://colab.research.google.com/assets/colab-badge.svg\" alt=\"Open In Colab\"/></a>"
      ]
    },
    {
      "cell_type": "markdown",
      "source": [
        "<h1>Tupla</h1>\n"
      ],
      "metadata": {
        "id": "HcuVFh-jA59E"
      }
    },
    {
      "cell_type": "code",
      "execution_count": 4,
      "metadata": {
        "colab": {
          "base_uri": "https://localhost:8080/"
        },
        "id": "G_p5wjoj-cEA",
        "outputId": "ee4fbfd2-a48b-4b91-e0ab-043117dfc606"
      },
      "outputs": [
        {
          "output_type": "stream",
          "name": "stdout",
          "text": [
            "<class 'tuple'>\n",
            "Tupla:  (9, 7)\n",
            "Maior:  10\n",
            "Menor:  5\n"
          ]
        }
      ],
      "source": [
        "def maiorMenor(a, b):\n",
        "  if(a > b):\n",
        "    return a, b\n",
        "  else:\n",
        "    return b, a\n",
        "\n",
        "tupla = maiorMenor(7,9)\n",
        "print(type(tupla))\n",
        "\n",
        "maior, menor = maiorMenor(10, 5)\n",
        "print('Tupla: ', tupla)\n",
        "print('Maior: ', maior)\n",
        "print('Menor: ', menor)"
      ]
    },
    {
      "cell_type": "markdown",
      "source": [
        "<h1>Dicionário</h1>"
      ],
      "metadata": {
        "id": "S3ZoNfGsBG69"
      }
    },
    {
      "cell_type": "code",
      "source": [
        "alunos = {\n",
        "    3049: \"Matheus\",\n",
        "    1287: \"Teste 1\",\n",
        "    7846: \"Teste 2\"\n",
        "}\n",
        "\n",
        "print(type(alunos))\n",
        "print(alunos)\n",
        "print(alunos[3049])\n",
        "print(\"Quantidade de elementos: \", len(alunos))\n",
        "\n",
        "# percorrendo os dados do dicionário\n",
        "print(\"Chaves do dicionário: \", alunos.keys())\n",
        "print(\"Valores do dicionário: \", alunos.values())\n",
        "\n",
        "print(\"Percorrendo o dicionário...\")\n",
        "for chave in alunos:\n",
        "  print(\"Chave: \", chave, \"Aluno: \", alunos[chave])"
      ],
      "metadata": {
        "colab": {
          "base_uri": "https://localhost:8080/"
        },
        "id": "GCgTSJPEBKzh",
        "outputId": "d707c09f-7b82-4588-8eba-3572c033e967"
      },
      "execution_count": 11,
      "outputs": [
        {
          "output_type": "stream",
          "name": "stdout",
          "text": [
            "<class 'dict'>\n",
            "{3049: 'Matheus', 1287: 'Teste 1', 7846: 'Teste 2'}\n",
            "Matheus\n",
            "Quantidade de elementos:  3\n",
            "Chaves do dicionário:  dict_keys([3049, 1287, 7846])\n",
            "Valores do dicionário:  dict_values(['Matheus', 'Teste 1', 'Teste 2'])\n",
            "Itens do dicionário:  dict_items([(3049, 'Matheus'), (1287, 'Teste 1'), (7846, 'Teste 2')])\n",
            "Percorrendo o dicionário...\n",
            "Chave:  3049 Aluno:  Matheus\n",
            "Chave:  1287 Aluno:  Teste 1\n",
            "Chave:  7846 Aluno:  Teste 2\n"
          ]
        }
      ]
    },
    {
      "cell_type": "markdown",
      "source": [
        "<h3>Tratando erros</h3>"
      ],
      "metadata": {
        "id": "nfd9-LcMDS1t"
      }
    },
    {
      "cell_type": "code",
      "source": [
        "contatos = {\n",
        "    \"Matheus\": \"3726758781\",\n",
        "    \"Maria\": \"6931646421\",\n",
        "    \"João\": \"8322688647\",\n",
        "    \"Pedro\": \"6334671833\"\n",
        "}\n",
        "\n",
        "print(contatos)\n",
        "\n",
        "#tratando um caso que não há na lista para não reproduzir erro\n",
        "print(contatos.get(\"Silvia\", \"Contato não encontrado\"))\n",
        "\n",
        "#tratando um caso que há na lista\n",
        "print(contatos.get(\"Maria\", \"Contato não encontrado\"))"
      ],
      "metadata": {
        "colab": {
          "base_uri": "https://localhost:8080/"
        },
        "id": "fNwLpLycDXHA",
        "outputId": "c1a12aa9-c573-4411-c3d0-e7a0d5d0629f"
      },
      "execution_count": 13,
      "outputs": [
        {
          "output_type": "stream",
          "name": "stdout",
          "text": [
            "{'Matheus': '3726758781', 'Maria': '6931646421', 'João': '8322688647', 'Pedro': '6334671833'}\n",
            "Contato não encontrado\n",
            "6931646421\n"
          ]
        }
      ]
    },
    {
      "cell_type": "markdown",
      "source": [
        "Percorrendo o dicionário com o método items()"
      ],
      "metadata": {
        "id": "LCM13zTSEHFk"
      }
    },
    {
      "cell_type": "code",
      "source": [
        "alunos = {\n",
        "    3052: \"Matheus\",\n",
        "    7458: \"Maria\",\n",
        "    3418: \"João\",\n",
        "    1234: \"Pedro\"\n",
        "}\n",
        "print(\"Itens do dicionário: \", alunos.items())\n",
        "\n",
        "for RA, nome in alunos.items():\n",
        "  print(\"RA:\", RA, \"Nome:\", nome)"
      ],
      "metadata": {
        "colab": {
          "base_uri": "https://localhost:8080/"
        },
        "id": "aLblnmesEGte",
        "outputId": "4361e08e-a426-492e-fc38-22ff5582e4f9"
      },
      "execution_count": 16,
      "outputs": [
        {
          "output_type": "stream",
          "name": "stdout",
          "text": [
            "Itens do dicionário:  dict_items([(3052, 'Matheus'), (7458, 'Maria'), (3418, 'João'), (1234, 'Pedro')])\n",
            "RA: 3052 Nome: Matheus\n",
            "RA: 7458 Nome: Maria\n",
            "RA: 3418 Nome: João\n",
            "RA: 1234 Nome: Pedro\n"
          ]
        }
      ]
    },
    {
      "cell_type": "markdown",
      "source": [
        "Dicionário alinhado"
      ],
      "metadata": {
        "id": "1V-kxHT0E2OT"
      }
    },
    {
      "cell_type": "code",
      "source": [
        "contatos = {\n",
        "    \"Alexandre\": \"9438854364\",\n",
        "    \"Maria\": {\"TEL\": \"8228539398\", \"END\": \"Rua Bananal\"},\n",
        "    \"Matheus\": \"7924221734\"\n",
        "}\n",
        "\n",
        "print(contatos)\n",
        "print(contatos[\"Maria\"])\n",
        "print(contatos[\"Maria\"][\"END\"])"
      ],
      "metadata": {
        "colab": {
          "base_uri": "https://localhost:8080/"
        },
        "id": "x0Qxx_ouE4IS",
        "outputId": "21ed06d1-d7f9-4343-e19b-92c497db933a"
      },
      "execution_count": 17,
      "outputs": [
        {
          "output_type": "stream",
          "name": "stdout",
          "text": [
            "{'Alexandre': '9438854364', 'Maria': {'TEL': '8228539398', 'END': 'Rua Bananal'}, 'Matheus': '7924221734'}\n",
            "{'TEL': '8228539398', 'END': 'Rua Bananal'}\n",
            "Rua Bananal\n"
          ]
        }
      ]
    },
    {
      "cell_type": "markdown",
      "source": [
        "Atualizando registro"
      ],
      "metadata": {
        "id": "mgNU_iV_FfIc"
      }
    },
    {
      "cell_type": "code",
      "source": [
        "alunos = {\n",
        "    3049: \"Matheus\",\n",
        "    1287: \"Teste 1\",\n",
        "    7846: \"Teste 2\"\n",
        "}\n",
        "\n",
        "print(\"Atualizando um aluno\")\n",
        "\n",
        "# se existir, atualiza\n",
        "alunos[3049] = \"Matheus Henrique\"\n",
        "print(alunos)\n",
        "\n",
        "# se não existir, cria o registro\n",
        "alunos[1234] = \"João\"\n",
        "\n",
        "# atualizando vários registros de uma vez, se existir, atualiza, se não, cria\n",
        "alunos.update({6895: \"Pedro Ferraz\", 7952: \"Silvia\"})\n",
        "print(alunos)"
      ],
      "metadata": {
        "colab": {
          "base_uri": "https://localhost:8080/"
        },
        "id": "P53ySmiAFgq8",
        "outputId": "695659a5-cd7f-41ff-8770-4452f018d562"
      },
      "execution_count": 18,
      "outputs": [
        {
          "output_type": "stream",
          "name": "stdout",
          "text": [
            "Atualizando um aluno\n",
            "{3049: 'Matheus Henrique', 1287: 'Teste 1', 7846: 'Teste 2'}\n",
            "{3049: 'Matheus Henrique', 1287: 'Teste 1', 7846: 'Teste 2', 1234: 'João', 6895: 'Pedro Ferraz', 7952: 'Silvia'}\n"
          ]
        }
      ]
    },
    {
      "cell_type": "markdown",
      "source": [
        "Consumindo dados de uma API"
      ],
      "metadata": {
        "id": "yG_1yHqBJfr9"
      }
    },
    {
      "cell_type": "code",
      "source": [
        "import requests\n",
        "import json\n",
        "\n",
        "# URL do json\n",
        "url = \"https://raw.githubusercontent.com/openfootball/football.json/refs/heads/master/2025-26/en.1.json\"\n",
        "\n",
        "# fazendo o download do conteúdo\n",
        "response = requests.get(url)\n",
        "data = response.json()\n",
        "\n",
        "# percorrendo os dados dos jogos\n",
        "for match in data[\"matches\"]:\n",
        "    round_name = match.get(\"round\")\n",
        "    date = match.get(\"date\")\n",
        "    time = match.get(\"time\")\n",
        "    team1 = match.get(\"team1\")\n",
        "    team2 = match.get(\"team2\")\n",
        "    score = match.get(\"score\", {})\n",
        "\n",
        "    print(f\"{round_name} | {date} {time} - {team1} vs {team2}\")"
      ],
      "metadata": {
        "colab": {
          "base_uri": "https://localhost:8080/"
        },
        "id": "CULvIdjYJhMk",
        "outputId": "11589fec-5957-415a-ff6f-7f3488d1681f"
      },
      "execution_count": 26,
      "outputs": [
        {
          "output_type": "stream",
          "name": "stdout",
          "text": [
            "Matchday 1 | 2025-08-15 20:00 - Liverpool FC vs AFC Bournemouth\n",
            "Matchday 1 | 2025-08-16 12:30 - Aston Villa vs Newcastle United\n",
            "Matchday 1 | 2025-08-16 15:00 - Brighton & Hove Albion vs Fulham FC\n",
            "Matchday 1 | 2025-08-16 15:00 - Sunderland AFC vs West Ham United\n",
            "Matchday 1 | 2025-08-16 15:00 - Tottenham Hotspur vs Burnley FC\n",
            "Matchday 1 | 2025-08-16 17:30 - Wolverhampton Wanderers vs Manchester City\n",
            "Matchday 1 | 2025-08-17 14:00 - Nottingham Forest vs Brentford FC\n",
            "Matchday 1 | 2025-08-17 14:00 - Chelsea FC vs Crystal Palace\n",
            "Matchday 1 | 2025-08-17 16:30 - Manchester United vs Arsenal FC\n",
            "Matchday 1 | 2025-08-18 20:00 - Leeds United vs Everton FC\n",
            "Matchday 2 | 2025-08-22 20:00 - West Ham United vs Chelsea FC\n",
            "Matchday 2 | 2025-08-23 12:30 - Manchester City vs Tottenham Hotspur\n",
            "Matchday 2 | 2025-08-23 15:00 - AFC Bournemouth vs Wolverhampton Wanderers\n",
            "Matchday 2 | 2025-08-23 15:00 - Brentford FC vs Aston Villa\n",
            "Matchday 2 | 2025-08-23 15:00 - Burnley FC vs Sunderland AFC\n",
            "Matchday 2 | 2025-08-23 17:30 - Arsenal FC vs Leeds United\n",
            "Matchday 2 | 2025-08-24 14:00 - Crystal Palace vs Nottingham Forest\n",
            "Matchday 2 | 2025-08-24 14:00 - Everton FC vs Brighton & Hove Albion\n",
            "Matchday 2 | 2025-08-24 16:30 - Fulham FC vs Manchester United\n",
            "Matchday 2 | 2025-08-25 20:00 - Newcastle United vs Liverpool FC\n",
            "Matchday 3 | 2025-08-29 20:00 - Aston Villa vs Crystal Palace\n",
            "Matchday 3 | 2025-08-30 15:00 - Sunderland AFC vs Brentford FC\n",
            "Matchday 3 | 2025-08-30 15:00 - Chelsea FC vs Fulham FC\n",
            "Matchday 3 | 2025-08-30 15:00 - Manchester United vs Burnley FC\n",
            "Matchday 3 | 2025-08-30 15:00 - Tottenham Hotspur vs AFC Bournemouth\n",
            "Matchday 3 | 2025-08-30 15:00 - Wolverhampton Wanderers vs Everton FC\n",
            "Matchday 3 | 2025-08-30 17:30 - Leeds United vs Newcastle United\n",
            "Matchday 3 | 2025-08-31 14:00 - Brighton & Hove Albion vs Manchester City\n",
            "Matchday 3 | 2025-08-31 14:00 - Nottingham Forest vs West Ham United\n",
            "Matchday 3 | 2025-08-31 16:30 - Liverpool FC vs Arsenal FC\n",
            "Matchday 4 | 2025-09-13 12:30 - Arsenal FC vs Nottingham Forest\n",
            "Matchday 4 | 2025-09-13 15:00 - AFC Bournemouth vs Brighton & Hove Albion\n",
            "Matchday 4 | 2025-09-13 15:00 - Crystal Palace vs Sunderland AFC\n",
            "Matchday 4 | 2025-09-13 15:00 - Brentford FC vs Chelsea FC\n",
            "Matchday 4 | 2025-09-13 15:00 - Everton FC vs Aston Villa\n",
            "Matchday 4 | 2025-09-13 15:00 - Fulham FC vs Leeds United\n",
            "Matchday 4 | 2025-09-13 15:00 - Newcastle United vs Wolverhampton Wanderers\n",
            "Matchday 4 | 2025-09-13 17:30 - West Ham United vs Tottenham Hotspur\n",
            "Matchday 4 | 2025-09-14 14:00 - Burnley FC vs Liverpool FC\n",
            "Matchday 4 | 2025-09-14 16:30 - Manchester City vs Manchester United\n",
            "Matchday 5 | 2025-09-20 12:30 - Liverpool FC vs Everton FC\n",
            "Matchday 5 | 2025-09-20 15:00 - AFC Bournemouth vs Newcastle United\n",
            "Matchday 5 | 2025-09-20 15:00 - Brighton & Hove Albion vs Tottenham Hotspur\n",
            "Matchday 5 | 2025-09-20 15:00 - Burnley FC vs Nottingham Forest\n",
            "Matchday 5 | 2025-09-20 15:00 - West Ham United vs Crystal Palace\n",
            "Matchday 5 | 2025-09-20 15:00 - Wolverhampton Wanderers vs Leeds United\n",
            "Matchday 5 | 2025-09-20 17:30 - Manchester United vs Chelsea FC\n",
            "Matchday 5 | 2025-09-20 20:00 - Fulham FC vs Brentford FC\n",
            "Matchday 5 | 2025-09-21 14:00 - Sunderland AFC vs Aston Villa\n",
            "Matchday 5 | 2025-09-21 16:30 - Arsenal FC vs Manchester City\n",
            "Matchday 6 | 2025-09-27 12:30 - Brentford FC vs Manchester United\n",
            "Matchday 6 | 2025-09-27 15:00 - Aston Villa vs Fulham FC\n",
            "Matchday 6 | 2025-09-27 15:00 - Crystal Palace vs Liverpool FC\n",
            "Matchday 6 | 2025-09-27 15:00 - Chelsea FC vs Brighton & Hove Albion\n",
            "Matchday 6 | 2025-09-27 15:00 - Leeds United vs AFC Bournemouth\n",
            "Matchday 6 | 2025-09-27 15:00 - Manchester City vs Burnley FC\n",
            "Matchday 6 | 2025-09-27 17:30 - Nottingham Forest vs Sunderland AFC\n",
            "Matchday 6 | 2025-09-28 14:00 - Tottenham Hotspur vs Wolverhampton Wanderers\n",
            "Matchday 6 | 2025-09-28 16:30 - Newcastle United vs Arsenal FC\n",
            "Matchday 6 | 2025-09-29 20:00 - Everton FC vs West Ham United\n",
            "Matchday 7 | 2025-10-04 None - AFC Bournemouth vs Fulham FC\n",
            "Matchday 7 | 2025-10-04 None - Aston Villa vs Burnley FC\n",
            "Matchday 7 | 2025-10-04 None - Arsenal FC vs West Ham United\n",
            "Matchday 7 | 2025-10-04 None - Brentford FC vs Manchester City\n",
            "Matchday 7 | 2025-10-04 None - Chelsea FC vs Liverpool FC\n",
            "Matchday 7 | 2025-10-04 None - Everton FC vs Crystal Palace\n",
            "Matchday 7 | 2025-10-04 None - Leeds United vs Tottenham Hotspur\n",
            "Matchday 7 | 2025-10-04 None - Manchester United vs Sunderland AFC\n",
            "Matchday 7 | 2025-10-04 None - Newcastle United vs Nottingham Forest\n",
            "Matchday 7 | 2025-10-04 None - Wolverhampton Wanderers vs Brighton & Hove Albion\n",
            "Matchday 8 | 2025-10-18 None - Sunderland AFC vs Wolverhampton Wanderers\n",
            "Matchday 8 | 2025-10-18 None - Brighton & Hove Albion vs Newcastle United\n",
            "Matchday 8 | 2025-10-18 None - Crystal Palace vs AFC Bournemouth\n",
            "Matchday 8 | 2025-10-18 None - Burnley FC vs Leeds United\n",
            "Matchday 8 | 2025-10-18 None - Fulham FC vs Arsenal FC\n",
            "Matchday 8 | 2025-10-18 None - Liverpool FC vs Manchester United\n",
            "Matchday 8 | 2025-10-18 None - Manchester City vs Everton FC\n",
            "Matchday 8 | 2025-10-18 None - Nottingham Forest vs Chelsea FC\n",
            "Matchday 8 | 2025-10-18 None - Tottenham Hotspur vs Aston Villa\n",
            "Matchday 8 | 2025-10-18 None - West Ham United vs Brentford FC\n",
            "Matchday 9 | 2025-10-25 None - AFC Bournemouth vs Nottingham Forest\n",
            "Matchday 9 | 2025-10-25 None - Aston Villa vs Manchester City\n",
            "Matchday 9 | 2025-10-25 None - Arsenal FC vs Crystal Palace\n",
            "Matchday 9 | 2025-10-25 None - Brentford FC vs Liverpool FC\n",
            "Matchday 9 | 2025-10-25 None - Chelsea FC vs Sunderland AFC\n",
            "Matchday 9 | 2025-10-25 None - Everton FC vs Tottenham Hotspur\n",
            "Matchday 9 | 2025-10-25 None - Leeds United vs West Ham United\n",
            "Matchday 9 | 2025-10-25 None - Manchester United vs Brighton & Hove Albion\n",
            "Matchday 9 | 2025-10-25 None - Newcastle United vs Fulham FC\n",
            "Matchday 9 | 2025-10-25 None - Wolverhampton Wanderers vs Burnley FC\n",
            "Matchday 10 | 2025-11-01 None - Sunderland AFC vs Everton FC\n",
            "Matchday 10 | 2025-11-01 None - Brighton & Hove Albion vs Leeds United\n",
            "Matchday 10 | 2025-11-01 None - Crystal Palace vs Brentford FC\n",
            "Matchday 10 | 2025-11-01 None - Burnley FC vs Arsenal FC\n",
            "Matchday 10 | 2025-11-01 None - Fulham FC vs Wolverhampton Wanderers\n",
            "Matchday 10 | 2025-11-01 None - Liverpool FC vs Aston Villa\n",
            "Matchday 10 | 2025-11-01 None - Manchester City vs AFC Bournemouth\n",
            "Matchday 10 | 2025-11-01 None - Nottingham Forest vs Manchester United\n",
            "Matchday 10 | 2025-11-01 None - Tottenham Hotspur vs Chelsea FC\n",
            "Matchday 10 | 2025-11-01 None - West Ham United vs Newcastle United\n",
            "Matchday 11 | 2025-11-08 None - Sunderland AFC vs Arsenal FC\n",
            "Matchday 11 | 2025-11-08 None - Aston Villa vs AFC Bournemouth\n",
            "Matchday 11 | 2025-11-08 None - Crystal Palace vs Brighton & Hove Albion\n",
            "Matchday 11 | 2025-11-08 None - Brentford FC vs Newcastle United\n",
            "Matchday 11 | 2025-11-08 None - Chelsea FC vs Wolverhampton Wanderers\n",
            "Matchday 11 | 2025-11-08 None - Everton FC vs Fulham FC\n",
            "Matchday 11 | 2025-11-08 None - Manchester City vs Liverpool FC\n",
            "Matchday 11 | 2025-11-08 None - Nottingham Forest vs Leeds United\n",
            "Matchday 11 | 2025-11-08 None - Tottenham Hotspur vs Manchester United\n",
            "Matchday 11 | 2025-11-08 None - West Ham United vs Burnley FC\n",
            "Matchday 12 | 2025-11-22 None - AFC Bournemouth vs West Ham United\n",
            "Matchday 12 | 2025-11-22 None - Brighton & Hove Albion vs Brentford FC\n",
            "Matchday 12 | 2025-11-22 None - Arsenal FC vs Tottenham Hotspur\n",
            "Matchday 12 | 2025-11-22 None - Burnley FC vs Chelsea FC\n",
            "Matchday 12 | 2025-11-22 None - Fulham FC vs Sunderland AFC\n",
            "Matchday 12 | 2025-11-22 None - Liverpool FC vs Nottingham Forest\n",
            "Matchday 12 | 2025-11-22 None - Leeds United vs Aston Villa\n",
            "Matchday 12 | 2025-11-22 None - Manchester United vs Everton FC\n",
            "Matchday 12 | 2025-11-22 None - Newcastle United vs Manchester City\n",
            "Matchday 12 | 2025-11-22 None - Wolverhampton Wanderers vs Crystal Palace\n",
            "Matchday 13 | 2025-11-29 None - Sunderland AFC vs AFC Bournemouth\n",
            "Matchday 13 | 2025-11-29 None - Aston Villa vs Wolverhampton Wanderers\n",
            "Matchday 13 | 2025-11-29 None - Crystal Palace vs Manchester United\n",
            "Matchday 13 | 2025-11-29 None - Brentford FC vs Burnley FC\n",
            "Matchday 13 | 2025-11-29 None - Chelsea FC vs Arsenal FC\n",
            "Matchday 13 | 2025-11-29 None - Everton FC vs Newcastle United\n",
            "Matchday 13 | 2025-11-29 None - Manchester City vs Leeds United\n",
            "Matchday 13 | 2025-11-29 None - Nottingham Forest vs Brighton & Hove Albion\n",
            "Matchday 13 | 2025-11-29 None - Tottenham Hotspur vs Fulham FC\n",
            "Matchday 13 | 2025-11-29 None - West Ham United vs Liverpool FC\n",
            "Matchday 14 | 2025-12-03 None - AFC Bournemouth vs Everton FC\n",
            "Matchday 14 | 2025-12-03 None - Brighton & Hove Albion vs Aston Villa\n",
            "Matchday 14 | 2025-12-03 None - Arsenal FC vs Brentford FC\n",
            "Matchday 14 | 2025-12-03 None - Burnley FC vs Crystal Palace\n",
            "Matchday 14 | 2025-12-03 None - Fulham FC vs Manchester City\n",
            "Matchday 14 | 2025-12-03 None - Liverpool FC vs Sunderland AFC\n",
            "Matchday 14 | 2025-12-03 None - Leeds United vs Chelsea FC\n",
            "Matchday 14 | 2025-12-03 None - Manchester United vs West Ham United\n",
            "Matchday 14 | 2025-12-03 None - Newcastle United vs Tottenham Hotspur\n",
            "Matchday 14 | 2025-12-03 None - Wolverhampton Wanderers vs Nottingham Forest\n",
            "Matchday 15 | 2025-12-06 None - AFC Bournemouth vs Chelsea FC\n",
            "Matchday 15 | 2025-12-06 None - Aston Villa vs Arsenal FC\n",
            "Matchday 15 | 2025-12-06 None - Brighton & Hove Albion vs West Ham United\n",
            "Matchday 15 | 2025-12-06 None - Everton FC vs Nottingham Forest\n",
            "Matchday 15 | 2025-12-06 None - Fulham FC vs Crystal Palace\n",
            "Matchday 15 | 2025-12-06 None - Leeds United vs Liverpool FC\n",
            "Matchday 15 | 2025-12-06 None - Manchester City vs Sunderland AFC\n",
            "Matchday 15 | 2025-12-06 None - Newcastle United vs Burnley FC\n",
            "Matchday 15 | 2025-12-06 None - Tottenham Hotspur vs Brentford FC\n",
            "Matchday 15 | 2025-12-06 None - Wolverhampton Wanderers vs Manchester United\n",
            "Matchday 16 | 2025-12-13 None - Sunderland AFC vs Newcastle United\n",
            "Matchday 16 | 2025-12-13 None - Crystal Palace vs Manchester City\n",
            "Matchday 16 | 2025-12-13 None - Arsenal FC vs Wolverhampton Wanderers\n",
            "Matchday 16 | 2025-12-13 None - Brentford FC vs Leeds United\n",
            "Matchday 16 | 2025-12-13 None - Burnley FC vs Fulham FC\n",
            "Matchday 16 | 2025-12-13 None - Chelsea FC vs Everton FC\n",
            "Matchday 16 | 2025-12-13 None - Liverpool FC vs Brighton & Hove Albion\n",
            "Matchday 16 | 2025-12-13 None - Manchester United vs AFC Bournemouth\n",
            "Matchday 16 | 2025-12-13 None - Nottingham Forest vs Tottenham Hotspur\n",
            "Matchday 16 | 2025-12-13 None - West Ham United vs Aston Villa\n",
            "Matchday 17 | 2025-12-20 None - AFC Bournemouth vs Burnley FC\n",
            "Matchday 17 | 2025-12-20 None - Aston Villa vs Manchester United\n",
            "Matchday 17 | 2025-12-20 None - Brighton & Hove Albion vs Sunderland AFC\n",
            "Matchday 17 | 2025-12-20 None - Everton FC vs Arsenal FC\n",
            "Matchday 17 | 2025-12-20 None - Fulham FC vs Nottingham Forest\n",
            "Matchday 17 | 2025-12-20 None - Leeds United vs Crystal Palace\n",
            "Matchday 17 | 2025-12-20 None - Manchester City vs West Ham United\n",
            "Matchday 17 | 2025-12-20 None - Newcastle United vs Chelsea FC\n",
            "Matchday 17 | 2025-12-20 None - Tottenham Hotspur vs Liverpool FC\n",
            "Matchday 17 | 2025-12-20 None - Wolverhampton Wanderers vs Brentford FC\n",
            "Matchday 18 | 2025-12-27 None - Sunderland AFC vs Leeds United\n",
            "Matchday 18 | 2025-12-27 None - Crystal Palace vs Tottenham Hotspur\n",
            "Matchday 18 | 2025-12-27 None - Arsenal FC vs Brighton & Hove Albion\n",
            "Matchday 18 | 2025-12-27 None - Brentford FC vs AFC Bournemouth\n",
            "Matchday 18 | 2025-12-27 None - Burnley FC vs Everton FC\n",
            "Matchday 18 | 2025-12-27 None - Chelsea FC vs Aston Villa\n",
            "Matchday 18 | 2025-12-27 None - Liverpool FC vs Wolverhampton Wanderers\n",
            "Matchday 18 | 2025-12-27 None - Manchester United vs Newcastle United\n",
            "Matchday 18 | 2025-12-27 None - Nottingham Forest vs Manchester City\n",
            "Matchday 18 | 2025-12-27 None - West Ham United vs Fulham FC\n",
            "Matchday 19 | 2025-12-30 None - Sunderland AFC vs Manchester City\n",
            "Matchday 19 | 2025-12-30 None - Crystal Palace vs Fulham FC\n",
            "Matchday 19 | 2025-12-30 None - Arsenal FC vs Aston Villa\n",
            "Matchday 19 | 2025-12-30 None - Brentford FC vs Tottenham Hotspur\n",
            "Matchday 19 | 2025-12-30 None - Burnley FC vs Newcastle United\n",
            "Matchday 19 | 2025-12-30 None - Chelsea FC vs AFC Bournemouth\n",
            "Matchday 19 | 2025-12-30 None - Liverpool FC vs Leeds United\n",
            "Matchday 19 | 2025-12-30 None - Manchester United vs Wolverhampton Wanderers\n",
            "Matchday 19 | 2025-12-30 None - Nottingham Forest vs Everton FC\n",
            "Matchday 19 | 2025-12-30 None - West Ham United vs Brighton & Hove Albion\n",
            "Matchday 20 | 2026-01-03 None - AFC Bournemouth vs Arsenal FC\n",
            "Matchday 20 | 2026-01-03 None - Aston Villa vs Nottingham Forest\n",
            "Matchday 20 | 2026-01-03 None - Brighton & Hove Albion vs Burnley FC\n",
            "Matchday 20 | 2026-01-03 None - Everton FC vs Brentford FC\n",
            "Matchday 20 | 2026-01-03 None - Fulham FC vs Liverpool FC\n",
            "Matchday 20 | 2026-01-03 None - Leeds United vs Manchester United\n",
            "Matchday 20 | 2026-01-03 None - Manchester City vs Chelsea FC\n",
            "Matchday 20 | 2026-01-03 None - Newcastle United vs Crystal Palace\n",
            "Matchday 20 | 2026-01-03 None - Tottenham Hotspur vs Sunderland AFC\n",
            "Matchday 20 | 2026-01-03 None - Wolverhampton Wanderers vs West Ham United\n",
            "Matchday 21 | 2026-01-07 None - AFC Bournemouth vs Tottenham Hotspur\n",
            "Matchday 21 | 2026-01-07 None - Crystal Palace vs Aston Villa\n",
            "Matchday 21 | 2026-01-07 None - Arsenal FC vs Liverpool FC\n",
            "Matchday 21 | 2026-01-07 None - Brentford FC vs Sunderland AFC\n",
            "Matchday 21 | 2026-01-07 None - Burnley FC vs Manchester United\n",
            "Matchday 21 | 2026-01-07 None - Everton FC vs Wolverhampton Wanderers\n",
            "Matchday 21 | 2026-01-07 None - Fulham FC vs Chelsea FC\n",
            "Matchday 21 | 2026-01-07 None - Manchester City vs Brighton & Hove Albion\n",
            "Matchday 21 | 2026-01-07 None - Newcastle United vs Leeds United\n",
            "Matchday 21 | 2026-01-07 None - West Ham United vs Nottingham Forest\n",
            "Matchday 22 | 2026-01-17 None - Sunderland AFC vs Crystal Palace\n",
            "Matchday 22 | 2026-01-17 None - Aston Villa vs Everton FC\n",
            "Matchday 22 | 2026-01-17 None - Brighton & Hove Albion vs AFC Bournemouth\n",
            "Matchday 22 | 2026-01-17 None - Chelsea FC vs Brentford FC\n",
            "Matchday 22 | 2026-01-17 None - Liverpool FC vs Burnley FC\n",
            "Matchday 22 | 2026-01-17 None - Leeds United vs Fulham FC\n",
            "Matchday 22 | 2026-01-17 None - Manchester United vs Manchester City\n",
            "Matchday 22 | 2026-01-17 None - Nottingham Forest vs Arsenal FC\n",
            "Matchday 22 | 2026-01-17 None - Tottenham Hotspur vs West Ham United\n",
            "Matchday 22 | 2026-01-17 None - Wolverhampton Wanderers vs Newcastle United\n",
            "Matchday 23 | 2026-01-24 None - AFC Bournemouth vs Liverpool FC\n",
            "Matchday 23 | 2026-01-24 None - Crystal Palace vs Chelsea FC\n",
            "Matchday 23 | 2026-01-24 None - Arsenal FC vs Manchester United\n",
            "Matchday 23 | 2026-01-24 None - Brentford FC vs Nottingham Forest\n",
            "Matchday 23 | 2026-01-24 None - Burnley FC vs Tottenham Hotspur\n",
            "Matchday 23 | 2026-01-24 None - Everton FC vs Leeds United\n",
            "Matchday 23 | 2026-01-24 None - Fulham FC vs Brighton & Hove Albion\n",
            "Matchday 23 | 2026-01-24 None - Manchester City vs Wolverhampton Wanderers\n",
            "Matchday 23 | 2026-01-24 None - Newcastle United vs Aston Villa\n",
            "Matchday 23 | 2026-01-24 None - West Ham United vs Sunderland AFC\n",
            "Matchday 24 | 2026-01-31 None - Sunderland AFC vs Burnley FC\n",
            "Matchday 24 | 2026-01-31 None - Aston Villa vs Brentford FC\n",
            "Matchday 24 | 2026-01-31 None - Brighton & Hove Albion vs Everton FC\n",
            "Matchday 24 | 2026-01-31 None - Chelsea FC vs West Ham United\n",
            "Matchday 24 | 2026-01-31 None - Liverpool FC vs Newcastle United\n",
            "Matchday 24 | 2026-01-31 None - Leeds United vs Arsenal FC\n",
            "Matchday 24 | 2026-01-31 None - Manchester United vs Fulham FC\n",
            "Matchday 24 | 2026-01-31 None - Nottingham Forest vs Crystal Palace\n",
            "Matchday 24 | 2026-01-31 None - Tottenham Hotspur vs Manchester City\n",
            "Matchday 24 | 2026-01-31 None - Wolverhampton Wanderers vs AFC Bournemouth\n",
            "Matchday 25 | 2026-02-07 None - AFC Bournemouth vs Aston Villa\n",
            "Matchday 25 | 2026-02-07 None - Brighton & Hove Albion vs Crystal Palace\n",
            "Matchday 25 | 2026-02-07 None - Arsenal FC vs Sunderland AFC\n",
            "Matchday 25 | 2026-02-07 None - Burnley FC vs West Ham United\n",
            "Matchday 25 | 2026-02-07 None - Fulham FC vs Everton FC\n",
            "Matchday 25 | 2026-02-07 None - Liverpool FC vs Manchester City\n",
            "Matchday 25 | 2026-02-07 None - Leeds United vs Nottingham Forest\n",
            "Matchday 25 | 2026-02-07 None - Manchester United vs Tottenham Hotspur\n",
            "Matchday 25 | 2026-02-07 None - Newcastle United vs Brentford FC\n",
            "Matchday 25 | 2026-02-07 None - Wolverhampton Wanderers vs Chelsea FC\n",
            "Matchday 26 | 2026-02-11 None - Sunderland AFC vs Liverpool FC\n",
            "Matchday 26 | 2026-02-11 None - Aston Villa vs Brighton & Hove Albion\n",
            "Matchday 26 | 2026-02-11 None - Crystal Palace vs Burnley FC\n",
            "Matchday 26 | 2026-02-11 None - Brentford FC vs Arsenal FC\n",
            "Matchday 26 | 2026-02-11 None - Chelsea FC vs Leeds United\n",
            "Matchday 26 | 2026-02-11 None - Everton FC vs AFC Bournemouth\n",
            "Matchday 26 | 2026-02-11 None - Manchester City vs Fulham FC\n",
            "Matchday 26 | 2026-02-11 None - Nottingham Forest vs Wolverhampton Wanderers\n",
            "Matchday 26 | 2026-02-11 None - Tottenham Hotspur vs Newcastle United\n",
            "Matchday 26 | 2026-02-11 None - West Ham United vs Manchester United\n",
            "Matchday 27 | 2026-02-21 None - Sunderland AFC vs Fulham FC\n",
            "Matchday 27 | 2026-02-21 None - Aston Villa vs Leeds United\n",
            "Matchday 27 | 2026-02-21 None - Crystal Palace vs Wolverhampton Wanderers\n",
            "Matchday 27 | 2026-02-21 None - Brentford FC vs Brighton & Hove Albion\n",
            "Matchday 27 | 2026-02-21 None - Chelsea FC vs Burnley FC\n",
            "Matchday 27 | 2026-02-21 None - Everton FC vs Manchester United\n",
            "Matchday 27 | 2026-02-21 None - Manchester City vs Newcastle United\n",
            "Matchday 27 | 2026-02-21 None - Nottingham Forest vs Liverpool FC\n",
            "Matchday 27 | 2026-02-21 None - Tottenham Hotspur vs Arsenal FC\n",
            "Matchday 27 | 2026-02-21 None - West Ham United vs AFC Bournemouth\n",
            "Matchday 28 | 2026-02-28 None - AFC Bournemouth vs Sunderland AFC\n",
            "Matchday 28 | 2026-02-28 None - Brighton & Hove Albion vs Nottingham Forest\n",
            "Matchday 28 | 2026-02-28 None - Arsenal FC vs Chelsea FC\n",
            "Matchday 28 | 2026-02-28 None - Burnley FC vs Brentford FC\n",
            "Matchday 28 | 2026-02-28 None - Fulham FC vs Tottenham Hotspur\n",
            "Matchday 28 | 2026-02-28 None - Liverpool FC vs West Ham United\n",
            "Matchday 28 | 2026-02-28 None - Leeds United vs Manchester City\n",
            "Matchday 28 | 2026-02-28 None - Manchester United vs Crystal Palace\n",
            "Matchday 28 | 2026-02-28 None - Newcastle United vs Everton FC\n",
            "Matchday 28 | 2026-02-28 None - Wolverhampton Wanderers vs Aston Villa\n",
            "Matchday 29 | 2026-03-04 None - AFC Bournemouth vs Brentford FC\n",
            "Matchday 29 | 2026-03-04 None - Aston Villa vs Chelsea FC\n",
            "Matchday 29 | 2026-03-04 None - Brighton & Hove Albion vs Arsenal FC\n",
            "Matchday 29 | 2026-03-04 None - Everton FC vs Burnley FC\n",
            "Matchday 29 | 2026-03-04 None - Fulham FC vs West Ham United\n",
            "Matchday 29 | 2026-03-04 None - Leeds United vs Sunderland AFC\n",
            "Matchday 29 | 2026-03-04 None - Manchester City vs Nottingham Forest\n",
            "Matchday 29 | 2026-03-04 None - Newcastle United vs Manchester United\n",
            "Matchday 29 | 2026-03-04 None - Tottenham Hotspur vs Crystal Palace\n",
            "Matchday 29 | 2026-03-04 None - Wolverhampton Wanderers vs Liverpool FC\n",
            "Matchday 30 | 2026-03-14 None - Sunderland AFC vs Brighton & Hove Albion\n",
            "Matchday 30 | 2026-03-14 None - Crystal Palace vs Leeds United\n",
            "Matchday 30 | 2026-03-14 None - Arsenal FC vs Everton FC\n",
            "Matchday 30 | 2026-03-14 None - Brentford FC vs Wolverhampton Wanderers\n",
            "Matchday 30 | 2026-03-14 None - Burnley FC vs AFC Bournemouth\n",
            "Matchday 30 | 2026-03-14 None - Chelsea FC vs Newcastle United\n",
            "Matchday 30 | 2026-03-14 None - Liverpool FC vs Tottenham Hotspur\n",
            "Matchday 30 | 2026-03-14 None - Manchester United vs Aston Villa\n",
            "Matchday 30 | 2026-03-14 None - Nottingham Forest vs Fulham FC\n",
            "Matchday 30 | 2026-03-14 None - West Ham United vs Manchester City\n",
            "Matchday 31 | 2026-03-21 None - AFC Bournemouth vs Manchester United\n",
            "Matchday 31 | 2026-03-21 None - Aston Villa vs West Ham United\n",
            "Matchday 31 | 2026-03-21 None - Brighton & Hove Albion vs Liverpool FC\n",
            "Matchday 31 | 2026-03-21 None - Everton FC vs Chelsea FC\n",
            "Matchday 31 | 2026-03-21 None - Fulham FC vs Burnley FC\n",
            "Matchday 31 | 2026-03-21 None - Leeds United vs Brentford FC\n",
            "Matchday 31 | 2026-03-21 None - Manchester City vs Crystal Palace\n",
            "Matchday 31 | 2026-03-21 None - Newcastle United vs Sunderland AFC\n",
            "Matchday 31 | 2026-03-21 None - Tottenham Hotspur vs Nottingham Forest\n",
            "Matchday 31 | 2026-03-21 None - Wolverhampton Wanderers vs Arsenal FC\n",
            "Matchday 32 | 2026-04-11 None - Sunderland AFC vs Tottenham Hotspur\n",
            "Matchday 32 | 2026-04-11 None - Crystal Palace vs Newcastle United\n",
            "Matchday 32 | 2026-04-11 None - Arsenal FC vs AFC Bournemouth\n",
            "Matchday 32 | 2026-04-11 None - Brentford FC vs Everton FC\n",
            "Matchday 32 | 2026-04-11 None - Burnley FC vs Brighton & Hove Albion\n",
            "Matchday 32 | 2026-04-11 None - Chelsea FC vs Manchester City\n",
            "Matchday 32 | 2026-04-11 None - Liverpool FC vs Fulham FC\n",
            "Matchday 32 | 2026-04-11 None - Manchester United vs Leeds United\n",
            "Matchday 32 | 2026-04-11 None - Nottingham Forest vs Aston Villa\n",
            "Matchday 32 | 2026-04-11 None - West Ham United vs Wolverhampton Wanderers\n",
            "Matchday 33 | 2026-04-18 None - Aston Villa vs Sunderland AFC\n",
            "Matchday 33 | 2026-04-18 None - Crystal Palace vs West Ham United\n",
            "Matchday 33 | 2026-04-18 None - Brentford FC vs Fulham FC\n",
            "Matchday 33 | 2026-04-18 None - Chelsea FC vs Manchester United\n",
            "Matchday 33 | 2026-04-18 None - Everton FC vs Liverpool FC\n",
            "Matchday 33 | 2026-04-18 None - Leeds United vs Wolverhampton Wanderers\n",
            "Matchday 33 | 2026-04-18 None - Manchester City vs Arsenal FC\n",
            "Matchday 33 | 2026-04-18 None - Newcastle United vs AFC Bournemouth\n",
            "Matchday 33 | 2026-04-18 None - Nottingham Forest vs Burnley FC\n",
            "Matchday 33 | 2026-04-18 None - Tottenham Hotspur vs Brighton & Hove Albion\n",
            "Matchday 34 | 2026-04-25 None - AFC Bournemouth vs Leeds United\n",
            "Matchday 34 | 2026-04-25 None - Sunderland AFC vs Nottingham Forest\n",
            "Matchday 34 | 2026-04-25 None - Brighton & Hove Albion vs Chelsea FC\n",
            "Matchday 34 | 2026-04-25 None - Arsenal FC vs Newcastle United\n",
            "Matchday 34 | 2026-04-25 None - Burnley FC vs Manchester City\n",
            "Matchday 34 | 2026-04-25 None - Fulham FC vs Aston Villa\n",
            "Matchday 34 | 2026-04-25 None - Liverpool FC vs Crystal Palace\n",
            "Matchday 34 | 2026-04-25 None - Manchester United vs Brentford FC\n",
            "Matchday 34 | 2026-04-25 None - West Ham United vs Everton FC\n",
            "Matchday 34 | 2026-04-25 None - Wolverhampton Wanderers vs Tottenham Hotspur\n",
            "Matchday 35 | 2026-05-02 None - AFC Bournemouth vs Crystal Palace\n",
            "Matchday 35 | 2026-05-02 None - Aston Villa vs Tottenham Hotspur\n",
            "Matchday 35 | 2026-05-02 None - Arsenal FC vs Fulham FC\n",
            "Matchday 35 | 2026-05-02 None - Brentford FC vs West Ham United\n",
            "Matchday 35 | 2026-05-02 None - Chelsea FC vs Nottingham Forest\n",
            "Matchday 35 | 2026-05-02 None - Everton FC vs Manchester City\n",
            "Matchday 35 | 2026-05-02 None - Leeds United vs Burnley FC\n",
            "Matchday 35 | 2026-05-02 None - Manchester United vs Liverpool FC\n",
            "Matchday 35 | 2026-05-02 None - Newcastle United vs Brighton & Hove Albion\n",
            "Matchday 35 | 2026-05-02 None - Wolverhampton Wanderers vs Sunderland AFC\n",
            "Matchday 36 | 2026-05-09 None - Sunderland AFC vs Manchester United\n",
            "Matchday 36 | 2026-05-09 None - Brighton & Hove Albion vs Wolverhampton Wanderers\n",
            "Matchday 36 | 2026-05-09 None - Crystal Palace vs Everton FC\n",
            "Matchday 36 | 2026-05-09 None - Burnley FC vs Aston Villa\n",
            "Matchday 36 | 2026-05-09 None - Fulham FC vs AFC Bournemouth\n",
            "Matchday 36 | 2026-05-09 None - Liverpool FC vs Chelsea FC\n",
            "Matchday 36 | 2026-05-09 None - Manchester City vs Brentford FC\n",
            "Matchday 36 | 2026-05-09 None - Nottingham Forest vs Newcastle United\n",
            "Matchday 36 | 2026-05-09 None - Tottenham Hotspur vs Leeds United\n",
            "Matchday 36 | 2026-05-09 None - West Ham United vs Arsenal FC\n",
            "Matchday 37 | 2026-05-17 None - AFC Bournemouth vs Manchester City\n",
            "Matchday 37 | 2026-05-17 None - Aston Villa vs Liverpool FC\n",
            "Matchday 37 | 2026-05-17 None - Arsenal FC vs Burnley FC\n",
            "Matchday 37 | 2026-05-17 None - Brentford FC vs Crystal Palace\n",
            "Matchday 37 | 2026-05-17 None - Chelsea FC vs Tottenham Hotspur\n",
            "Matchday 37 | 2026-05-17 None - Everton FC vs Sunderland AFC\n",
            "Matchday 37 | 2026-05-17 None - Leeds United vs Brighton & Hove Albion\n",
            "Matchday 37 | 2026-05-17 None - Manchester United vs Nottingham Forest\n",
            "Matchday 37 | 2026-05-17 None - Newcastle United vs West Ham United\n",
            "Matchday 37 | 2026-05-17 None - Wolverhampton Wanderers vs Fulham FC\n",
            "Matchday 38 | 2026-05-24 None - Sunderland AFC vs Chelsea FC\n",
            "Matchday 38 | 2026-05-24 None - Brighton & Hove Albion vs Manchester United\n",
            "Matchday 38 | 2026-05-24 None - Crystal Palace vs Arsenal FC\n",
            "Matchday 38 | 2026-05-24 None - Burnley FC vs Wolverhampton Wanderers\n",
            "Matchday 38 | 2026-05-24 None - Fulham FC vs Newcastle United\n",
            "Matchday 38 | 2026-05-24 None - Liverpool FC vs Brentford FC\n",
            "Matchday 38 | 2026-05-24 None - Manchester City vs Aston Villa\n",
            "Matchday 38 | 2026-05-24 None - Nottingham Forest vs AFC Bournemouth\n",
            "Matchday 38 | 2026-05-24 None - Tottenham Hotspur vs Everton FC\n",
            "Matchday 38 | 2026-05-24 None - West Ham United vs Leeds United\n"
          ]
        }
      ]
    },
    {
      "cell_type": "markdown",
      "source": [
        "Filtrando jogos de um time específico"
      ],
      "metadata": {
        "id": "bYGWgyEGNCtV"
      }
    },
    {
      "cell_type": "code",
      "source": [
        "import requests\n",
        "import json\n",
        "\n",
        "# URL do json\n",
        "url = \"https://raw.githubusercontent.com/openfootball/football.json/refs/heads/master/2025-26/en.1.json\"\n",
        "\n",
        "# fazendo o download do conteúdo\n",
        "response = requests.get(url)\n",
        "data = response.json()\n",
        "\n",
        "# nome do time\n",
        "time_escolhido = \"Manchester City\"\n",
        "\n",
        "# Filtrando os jogos\n",
        "jogos_do_time = [\n",
        "    jogo for jogo in data[\"matches\"]\n",
        "    if jogo[\"team1\"] == time_escolhido or jogo[\"team2\"] == time_escolhido\n",
        "]\n",
        "\n",
        "# Exibindo os jogos encontrados\n",
        "for jogo in jogos_do_time:\n",
        "    print(f\"{jogo['date']} - {jogo['team1']} vs {jogo['team2']}\")\n"
      ],
      "metadata": {
        "colab": {
          "base_uri": "https://localhost:8080/"
        },
        "id": "nTCCLCY7NFVt",
        "outputId": "513900a9-9707-4613-dfbd-7ca93042bac9"
      },
      "execution_count": 27,
      "outputs": [
        {
          "output_type": "stream",
          "name": "stdout",
          "text": [
            "2025-08-16 - Wolverhampton Wanderers vs Manchester City\n",
            "2025-08-23 - Manchester City vs Tottenham Hotspur\n",
            "2025-08-31 - Brighton & Hove Albion vs Manchester City\n",
            "2025-09-14 - Manchester City vs Manchester United\n",
            "2025-09-21 - Arsenal FC vs Manchester City\n",
            "2025-09-27 - Manchester City vs Burnley FC\n",
            "2025-10-04 - Brentford FC vs Manchester City\n",
            "2025-10-18 - Manchester City vs Everton FC\n",
            "2025-10-25 - Aston Villa vs Manchester City\n",
            "2025-11-01 - Manchester City vs AFC Bournemouth\n",
            "2025-11-08 - Manchester City vs Liverpool FC\n",
            "2025-11-22 - Newcastle United vs Manchester City\n",
            "2025-11-29 - Manchester City vs Leeds United\n",
            "2025-12-03 - Fulham FC vs Manchester City\n",
            "2025-12-06 - Manchester City vs Sunderland AFC\n",
            "2025-12-13 - Crystal Palace vs Manchester City\n",
            "2025-12-20 - Manchester City vs West Ham United\n",
            "2025-12-27 - Nottingham Forest vs Manchester City\n",
            "2025-12-30 - Sunderland AFC vs Manchester City\n",
            "2026-01-03 - Manchester City vs Chelsea FC\n",
            "2026-01-07 - Manchester City vs Brighton & Hove Albion\n",
            "2026-01-17 - Manchester United vs Manchester City\n",
            "2026-01-24 - Manchester City vs Wolverhampton Wanderers\n",
            "2026-01-31 - Tottenham Hotspur vs Manchester City\n",
            "2026-02-07 - Liverpool FC vs Manchester City\n",
            "2026-02-11 - Manchester City vs Fulham FC\n",
            "2026-02-21 - Manchester City vs Newcastle United\n",
            "2026-02-28 - Leeds United vs Manchester City\n",
            "2026-03-04 - Manchester City vs Nottingham Forest\n",
            "2026-03-14 - West Ham United vs Manchester City\n",
            "2026-03-21 - Manchester City vs Crystal Palace\n",
            "2026-04-11 - Chelsea FC vs Manchester City\n",
            "2026-04-18 - Manchester City vs Arsenal FC\n",
            "2026-04-25 - Burnley FC vs Manchester City\n",
            "2026-05-02 - Everton FC vs Manchester City\n",
            "2026-05-09 - Manchester City vs Brentford FC\n",
            "2026-05-17 - AFC Bournemouth vs Manchester City\n",
            "2026-05-24 - Manchester City vs Aston Villa\n"
          ]
        }
      ]
    }
  ]
}