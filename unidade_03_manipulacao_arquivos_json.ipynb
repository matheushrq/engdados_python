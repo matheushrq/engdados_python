{
  "nbformat": 4,
  "nbformat_minor": 0,
  "metadata": {
    "colab": {
      "provenance": [],
      "authorship_tag": "ABX9TyNV91PPIBXpHCQFAYjo2nUy",
      "include_colab_link": true
    },
    "kernelspec": {
      "name": "python3",
      "display_name": "Python 3"
    },
    "language_info": {
      "name": "python"
    }
  },
  "cells": [
    {
      "cell_type": "markdown",
      "metadata": {
        "id": "view-in-github",
        "colab_type": "text"
      },
      "source": [
        "<a href=\"https://colab.research.google.com/github/matheushrq/engdados_python/blob/main/unidade_03_manipulacao_arquivos_json.ipynb\" target=\"_parent\"><img src=\"https://colab.research.google.com/assets/colab-badge.svg\" alt=\"Open In Colab\"/></a>"
      ]
    },
    {
      "cell_type": "code",
      "execution_count": 4,
      "metadata": {
        "colab": {
          "base_uri": "https://localhost:8080/"
        },
        "id": "cuhMcS6OfFHp",
        "outputId": "b57a3f60-2ac7-4f9f-a20e-724353377ef3"
      },
      "outputs": [
        {
          "output_type": "stream",
          "name": "stdout",
          "text": [
            "{\"nome\": \"Paulo\", \"RA\": 3095, \"email\": [\"paulo@gmail.com\", \"paulo@hotmail.com\"], \"sexo\": \"M\"}\n",
            "<class 'str'>\n"
          ]
        }
      ],
      "source": [
        "# função dumps transforma um dado python em um json\n",
        "import json\n",
        "\n",
        "dados = {\n",
        "    \"nome\": \"Paulo\",\n",
        "    \"RA\": 3095,\n",
        "    \"email\": ['paulo@gmail.com', 'paulo@hotmail.com'],\n",
        "    \"sexo\": \"M\"\n",
        "}\n",
        "\n",
        "j_dados = json.dumps(dados)\n",
        "print(j_dados)\n",
        "print(type(j_dados))"
      ]
    },
    {
      "cell_type": "code",
      "source": [
        "# gravando os dados em um arquivo\n",
        "import json\n",
        "\n",
        "dados = {\n",
        "    \"nome\": \"Paulo\",\n",
        "    \"RA\": 3095,\n",
        "    \"email\": ['paulo@gmail.com', 'paulo@hotmail.com'],\n",
        "    \"sexo\": \"M\"\n",
        "}\n",
        "\n",
        "j_dados = json.dumps(dados)\n",
        "open('dados.json', 'w').write(j_dados)"
      ],
      "metadata": {
        "colab": {
          "base_uri": "https://localhost:8080/"
        },
        "id": "kEOuooyTi2Nu",
        "outputId": "20be8301-e2af-4491-b871-55c6090bf000"
      },
      "execution_count": 5,
      "outputs": [
        {
          "output_type": "execute_result",
          "data": {
            "text/plain": [
              "93"
            ]
          },
          "metadata": {},
          "execution_count": 5
        }
      ]
    },
    {
      "cell_type": "code",
      "source": [
        "# acrescentando indentação no arquivo json\n",
        "import json\n",
        "\n",
        "dados =  {\n",
        "    \"nome\": \"Paulo\",\n",
        "    \"RA\": 3095,\n",
        "    \"email\": ['paulo@gmail.com', 'paulo@hotmail.com'],\n",
        "    \"sexo\": \"M\"\n",
        "}\n",
        "\n",
        "with open('dados.json', 'w') as arquivo:\n",
        "    json.dump(dados, arquivo, indent=3)\n",
        "\n",
        "# ou: json.dump(dados, open('dados.json', 'w'), indent = 3)"
      ],
      "metadata": {
        "id": "LSEQVRS6jao4"
      },
      "execution_count": 9,
      "outputs": []
    },
    {
      "cell_type": "code",
      "source": [
        "# função loads transforma uma string json em um arquivo python\n",
        "import json\n",
        "\n",
        "dados = '{\"nome\": \"Paulo\", \"RA\": 3095, \"email\": [\"paulo@gmail.com\", \"paulo@hotmail.com\"], \"sexo\": \"M\"}'\n",
        "\n",
        "json.dump(dados, open('dados.json', 'w'), indent = 3)\n",
        "p_dados = open('dados.json', 'r').read()\n",
        "\n",
        "print(p_dados)\n",
        "print(type(p_dados)) # str\n",
        "\n",
        "dic_dados = json.loads(p_dados)\n",
        "print(dic_dados)\n",
        "print(type(dic_dados)) # dict"
      ],
      "metadata": {
        "colab": {
          "base_uri": "https://localhost:8080/"
        },
        "id": "vRnfMZh7kVUs",
        "outputId": "3d840df3-8177-4212-a997-5dccd2693df6"
      },
      "execution_count": 10,
      "outputs": [
        {
          "output_type": "stream",
          "name": "stdout",
          "text": [
            "\"{\\\"nome\\\": \\\"Paulo\\\", \\\"RA\\\": 3095, \\\"email\\\": [\\\"paulo@gmail.com\\\", \\\"paulo@hotmail.com\\\"], \\\"sexo\\\": \\\"M\\\"}\"\n",
            "<class 'str'>\n",
            "{\"nome\": \"Paulo\", \"RA\": 3095, \"email\": [\"paulo@gmail.com\", \"paulo@hotmail.com\"], \"sexo\": \"M\"}\n",
            "<class 'str'>\n"
          ]
        }
      ]
    },
    {
      "cell_type": "code",
      "source": [
        "# função load deserializa o json contido em um arquivo para um objeto python\n",
        "import json\n",
        "\n",
        "dados = {\n",
        "    \"nome\": \"Paulo\",\n",
        "    \"RA\": 3095,\n",
        "    \"email\": [\"paulo@gmail.com\", \"paulo@hotmail.com\"],\n",
        "    \"sexo\": \"M\"\n",
        "  }\n",
        "\n",
        "json.dump(dados, open(\"dados.json\", \"w\"), indent = 3)\n",
        "dict_dados = json.load(open(\"dados.json\", \"r\"))\n",
        "\n",
        "print(dict_dados)\n",
        "print(type(dict_dados))"
      ],
      "metadata": {
        "colab": {
          "base_uri": "https://localhost:8080/"
        },
        "id": "Fyy9axaClI8d",
        "outputId": "af19aee9-246a-459c-96a3-e2ddfe2336a8"
      },
      "execution_count": 11,
      "outputs": [
        {
          "output_type": "stream",
          "name": "stdout",
          "text": [
            "{'nome': 'Paulo', 'RA': 3095, 'email': ['paulo@gmail.com', 'paulo@hotmail.com'], 'sexo': 'M'}\n",
            "<class 'dict'>\n"
          ]
        }
      ]
    },
    {
      "cell_type": "code",
      "source": [
        "# carga de arquivos externos\n",
        "import json\n",
        "import requests\n",
        "\n",
        "response = requests.get('https://viacep.com.br/ws/01001000/json/')\n",
        "dados = json.loads(response.text)\n",
        "\n",
        "print(dados)\n",
        "print(type(dados))"
      ],
      "metadata": {
        "colab": {
          "base_uri": "https://localhost:8080/"
        },
        "id": "0wdtOU2Clr10",
        "outputId": "4caf8668-2600-462a-f6e6-76cf350bc0df"
      },
      "execution_count": 12,
      "outputs": [
        {
          "output_type": "stream",
          "name": "stdout",
          "text": [
            "{'cep': '01001-000', 'logradouro': 'Praça da Sé', 'complemento': 'lado ímpar', 'unidade': '', 'bairro': 'Sé', 'localidade': 'São Paulo', 'uf': 'SP', 'estado': 'São Paulo', 'regiao': 'Sudeste', 'ibge': '3550308', 'gia': '1004', 'ddd': '11', 'siafi': '7107'}\n",
            "<class 'dict'>\n"
          ]
        }
      ]
    }
  ]
}