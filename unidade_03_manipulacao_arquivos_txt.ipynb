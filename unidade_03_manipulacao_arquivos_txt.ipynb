{
  "nbformat": 4,
  "nbformat_minor": 0,
  "metadata": {
    "colab": {
      "provenance": [],
      "authorship_tag": "ABX9TyPWc7Wg8tQvXkxPIUotOZlD",
      "include_colab_link": true
    },
    "kernelspec": {
      "name": "python3",
      "display_name": "Python 3"
    },
    "language_info": {
      "name": "python"
    }
  },
  "cells": [
    {
      "cell_type": "markdown",
      "metadata": {
        "id": "view-in-github",
        "colab_type": "text"
      },
      "source": [
        "<a href=\"https://colab.research.google.com/github/matheushrq/engdados_python/blob/main/unidade_03_manipulacao_arquivos_txt.ipynb\" target=\"_parent\"><img src=\"https://colab.research.google.com/assets/colab-badge.svg\" alt=\"Open In Colab\"/></a>"
      ]
    },
    {
      "cell_type": "code",
      "execution_count": 2,
      "metadata": {
        "id": "3yitnNmZ0gPM"
      },
      "outputs": [],
      "source": [
        "# criando e gravando dados em um arquivo\n",
        "novo_arquivo = open(\"saida.txt\", \"w\")\n",
        "novo_arquivo.write(\"Olá, mundo!\")\n",
        "novo_arquivo.write(\"\\nAula de manipulação de arquivos em Python.\")\n",
        "novo_arquivo.write(\"\\nCriando uma nova linha\")\n",
        "novo_arquivo.close()"
      ]
    },
    {
      "cell_type": "code",
      "source": [
        "# adicionando linhas ao arquivo\n",
        "novo_arquivo = open(\"saida.txt\", \"a\")\n",
        "novo_arquivo.write(\"\\nMais uma linha adicionada\")\n",
        "novo_arquivo.close()"
      ],
      "metadata": {
        "id": "7J0nlZcS3mlQ"
      },
      "execution_count": 3,
      "outputs": []
    },
    {
      "cell_type": "code",
      "source": [
        "# lendo as linhas do arquivo\n",
        "arquivo = open(\"saida.txt\", \"r\")\n",
        "for linha in arquivo:\n",
        "  print(linha)\n",
        "\n",
        "arquivo.close()"
      ],
      "metadata": {
        "colab": {
          "base_uri": "https://localhost:8080/"
        },
        "id": "tt_fmuUl6zmM",
        "outputId": "15006b38-987c-476e-a069-a63cc543cddd"
      },
      "execution_count": 4,
      "outputs": [
        {
          "output_type": "stream",
          "name": "stdout",
          "text": [
            "Olá, mundo!\n",
            "\n",
            "Aula de manipulação de arquivos em Python.\n",
            "\n",
            "Criando uma nova linha\n",
            "\n",
            "Mais uma linha adicionada\n"
          ]
        }
      ]
    },
    {
      "cell_type": "code",
      "source": [
        "# obtendo cada palavra da linha\n",
        "with open (\"saida.txt\", \"r\") as arquivo:\n",
        "  for linha in arquivo:\n",
        "    print(\"Obtendo a palavra de cada linha\")\n",
        "    print(linha.split())\n",
        "    print(linha)"
      ],
      "metadata": {
        "colab": {
          "base_uri": "https://localhost:8080/"
        },
        "id": "bFbQngBD7JjS",
        "outputId": "2f19427a-4995-42c4-f6b2-3dbdd09d1121"
      },
      "execution_count": 5,
      "outputs": [
        {
          "output_type": "stream",
          "name": "stdout",
          "text": [
            "Obtendo a palavra de cada linha\n",
            "['Olá,', 'mundo!']\n",
            "Olá, mundo!\n",
            "\n",
            "Obtendo a palavra de cada linha\n",
            "['Aula', 'de', 'manipulação', 'de', 'arquivos', 'em', 'Python.']\n",
            "Aula de manipulação de arquivos em Python.\n",
            "\n",
            "Obtendo a palavra de cada linha\n",
            "['Criando', 'uma', 'nova', 'linha']\n",
            "Criando uma nova linha\n",
            "\n",
            "Obtendo a palavra de cada linha\n",
            "['Mais', 'uma', 'linha', 'adicionada']\n",
            "Mais uma linha adicionada\n"
          ]
        }
      ]
    },
    {
      "cell_type": "code",
      "source": [
        "# lendo dados de um arquivo\n",
        "arquivo = open(\"saida.txt\", \"r\")\n",
        "conteudo = arquivo.read() # lendo o conteúdo através de uma string\n",
        "print(\"Conteúdo - método read\")\n",
        "print(conteudo)\n",
        "print(type(conteudo))\n",
        "arquivo.close()"
      ],
      "metadata": {
        "colab": {
          "base_uri": "https://localhost:8080/"
        },
        "id": "96Fg8ia27jIh",
        "outputId": "d3b0233f-4208-42ee-e21b-ce5390a48f23"
      },
      "execution_count": 6,
      "outputs": [
        {
          "output_type": "stream",
          "name": "stdout",
          "text": [
            "Conteúdo - método read\n",
            "Olá, mundo!\n",
            "Aula de manipulação de arquivos em Python.\n",
            "Criando uma nova linha\n",
            "Mais uma linha adicionada\n",
            "<class 'str'>\n"
          ]
        }
      ]
    },
    {
      "cell_type": "code",
      "source": [
        "# lendo dados de um arquivo como uma lista\n",
        "arquivo = open(\"saida.txt\", \"r\") # Reopen the file\n",
        "arquivo.seek(0) # posiciona o ponteiro do arquivo para o início\n",
        "\n",
        "lista_linhas = arquivo.readlines() # lendo o conteúdo através de uma lista\n",
        "print(\"Conteúdo - método readlines\")\n",
        "print(lista_linhas)\n",
        "print(type(lista_linhas))\n",
        "arquivo.close()"
      ],
      "metadata": {
        "colab": {
          "base_uri": "https://localhost:8080/"
        },
        "id": "jZZjWycY8Me_",
        "outputId": "3dc4c162-3664-4f92-e250-7bb442fc36a3"
      },
      "execution_count": 10,
      "outputs": [
        {
          "output_type": "stream",
          "name": "stdout",
          "text": [
            "Conteúdo - método readlines\n",
            "['Olá, mundo!\\n', 'Aula de manipulação de arquivos em Python.\\n', 'Criando uma nova linha\\n', 'Mais uma linha adicionada']\n",
            "<class 'list'>\n"
          ]
        }
      ]
    },
    {
      "cell_type": "code",
      "source": [
        "# gravando uma lista no arquivo\n",
        "lista = [\"\\nMatheus\", \"\\nJoão\", \"\\nMaria\"]\n",
        "arquivo = open(\"saida.txt\", \"a\")\n",
        "arquivo.writelines(lista)\n",
        "arquivo.close()"
      ],
      "metadata": {
        "id": "9vfO7MHA8mK5"
      },
      "execution_count": 11,
      "outputs": []
    },
    {
      "cell_type": "code",
      "source": [
        "# copiando dados de um arquivo para o outro\n",
        "open(\"nova_saida.txt\", \"w\").writelines(open(\"saida.txt\", \"r\"))"
      ],
      "metadata": {
        "id": "X7WcDyFV9ZkW"
      },
      "execution_count": 12,
      "outputs": []
    },
    {
      "cell_type": "code",
      "source": [],
      "metadata": {
        "id": "6vVOLt1q9kzQ"
      },
      "execution_count": null,
      "outputs": []
    }
  ]
}